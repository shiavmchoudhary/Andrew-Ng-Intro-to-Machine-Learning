{
 "cells": [
  {
   "cell_type": "code",
   "execution_count": 11,
   "metadata": {},
   "outputs": [
    {
     "name": "stdout",
     "output_type": "stream",
     "text": [
      "\n",
      " After  1500  iterations value of theta is :-- [[ 340412.56301439]\n",
      " [ 109370.05670466]\n",
      " [  -6500.61509507]]\n",
      "\n",
      " predict cost of a 1650 sq. feet house with 3 bedrooms [ 293098.46667577]\n"
     ]
    },
    {
     "data": {
      "image/png": "[encoded data removed]",
      "text/plain": [
       "<matplotlib.figure.Figure at 0x7f2f18f9d438>"
      ]
     },
     "metadata": {},
     "output_type": "display_data"
    }
   ],
   "source": [
    "import numpy as np\n",
    "import matplotlib.pyplot as plt\n",
    "\n",
    "#soh contain data of first column\n",
    "#nob contain data of second column\n",
    "#price contain data of third column\n",
    "#COST contain cost for each iteration in Gradient Descent\n",
    "#t1 stores value of theta1\n",
    "#t2 stores value of theta2\n",
    "#t3 stores value of theta3\n",
    "#means store value of mean for each column\n",
    "#std_ds store value of standard deviation for each column\n",
    "\n",
    "t1 = []\n",
    "t2 = []\n",
    "t3 = []\n",
    "soh = []\n",
    "nob = []\n",
    "price = []\n",
    "theta = np.zeros((3,1))\n",
    "COST = list()\n",
    "iterations = 1500\n",
    "alpha = .01\n",
    "means = []\n",
    "std_ds = []\n",
    "\n",
    "#read data from file\n",
    "soh,nob,price = np.loadtxt(\"ex1data2.txt\",unpack = True,delimiter = ',')\n",
    "\n",
    "def FeatureNormalize(x):\n",
    "    means.append(float(x.mean()))\n",
    "    std_ds.append(float(x.std()))\n",
    "    \n",
    "    mean = x.mean()\n",
    "    std_d = x.std()\n",
    "    \n",
    "    for i in range(len(x)):\n",
    "        x[i] = (x[i] - mean)/std_d\n",
    "\n",
    "        \n",
    "#predict value for a given theta and features\n",
    "def predict(theta,f1,f2,means,std_ds):\n",
    "    #normalize the given input\n",
    "    f1 = (f1 - means[0])/(std_ds[0])\n",
    "    f2 = (f2 - means[1])/(std_ds[1])\n",
    "    #predict cost\n",
    "    predicted = theta[0] + theta[1]*f1 + theta[2]*f2\n",
    "    return predicted\n",
    "\n",
    "\n",
    "#Cost function which compute cost for a particular theta\n",
    "def Compute_cost(theta,x,y,m):\n",
    "    term1 = (np.dot(x,theta) - y)\n",
    "    cost = (np.sum(np.multiply(term1,term1)))/(2*m)\n",
    "    return cost\n",
    "\n",
    "#batch gradient descent\n",
    "def Gradient_Descent(theta,m,x,y,iterations,alpha):\n",
    "    for i in range(iterations):\n",
    "        term1 = (np.dot(x,theta) - y)\n",
    "        theta = theta - (alpha/m)*(np.dot(x.T,term1))\n",
    "        COST.append(float(Compute_cost(theta,x,y,m)))\n",
    "    return theta\n",
    "\n",
    "m = len(price)\n",
    "\n",
    "FeatureNormalize(soh)\n",
    "FeatureNormalize(nob)\n",
    "\n",
    "#create matrix of feature normalize data\n",
    "X = np.column_stack((soh,nob))\n",
    "X = np.insert(X,0,1,1)\n",
    "y = np.array(price).reshape(m,1)\n",
    "\n",
    "theta = Gradient_Descent(theta,m,X,y,iterations,alpha)\n",
    "\n",
    "print(\"\\n After \",iterations,\" iterations value of theta is :--\",theta)\n",
    "print(\"\\n predict cost of a 1650 sq. feet house with 3 bedrooms\",predict(theta,1650,3,means,std_ds))\n",
    "\n",
    "plt.plot(list(range(iterations)),COST)\n",
    "\n",
    "plt.xlabel(\"No. of iterations\")\n",
    "plt.ylabel(\"Cost J\")\n",
    "plt.show()"
   ]
  },
  {
   "cell_type": "code",
   "execution_count": null,
   "metadata": {},
   "outputs": [],
   "source": []
  }
 ],
 "metadata": {
  "kernelspec": {
   "display_name": "Python 3",
   "language": "python",
   "name": "python3"
  },
  "language_info": {
   "codemirror_mode": {
    "name": "ipython",
    "version": 3
   },
   "file_extension": ".py",
   "mimetype": "text/x-python",
   "name": "python",
   "nbconvert_exporter": "python",
   "pygments_lexer": "ipython3",
   "version": "3.6.5"
  }
 },
 "nbformat": 4,
 "nbformat_minor": 2
}
