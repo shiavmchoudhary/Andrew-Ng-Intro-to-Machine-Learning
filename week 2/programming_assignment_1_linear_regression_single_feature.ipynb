{
 "cells": [
  {
   "cell_type": "code",
   "execution_count": 1,
   "metadata": {},
   "outputs": [
    {
     "name": "stdout",
     "output_type": "stream",
     "text": [
      "\n",
      " cost compute at a given theta = [0,0]\n",
      "32.0727338775\n",
      "\n",
      " Final values of theta  [[-3.63029144]\n",
      " [ 1.16636235]] \n",
      "\n",
      "\n",
      " For value 35000 value predicted is :-- [ 0.45197679]\n",
      "\n",
      " For value 70000 value predicted is :-- [ 4.53424501]\n"
     ]
    }
   ],
   "source": [
    "import matplotlib.pyplot as plt\n",
    "from mpl_toolkits.mplot3d import axis3d\n",
    "import numpy as np\n",
    "\n",
    "#to store cost for each training data\n",
    "t3 = []\n",
    "\n",
    "#predict value for a given theta and a x-point\n",
    "def predict(theta,x):\n",
    "    predicted = theta[0] + theta[1]*x\n",
    "    return predicted\n",
    "\n",
    "#Cost function which compute cost for a particular theta\n",
    "def Compute_cost(theta,x,y,m):\n",
    "    term1 = (np.dot(x,theta) - y)\n",
    "    cost = (np.sum(np.multiply(term1,term1)))/(2*m)\n",
    "    return cost\n",
    "\n",
    "#batch gradient descent\n",
    "def Gradient_Descent(theta,m,x,y,iterations,alpha):\n",
    "    for i in range(iterations):\n",
    "        term1 = (np.dot(x,theta) - y)\n",
    "        theta = theta - (alpha/m)*(np.dot(x.T,term1))\n",
    "    return theta\n",
    "\n",
    "theta = np.zeros((2,1))\n",
    "iterations = 1500\n",
    "alpha = .01\n",
    "\n",
    "#read data from file\n",
    "x,y = np.loadtxt(\"ex1data1.txt\",unpack = True,delimiter = ',')\n",
    "\n",
    "#create feature matrix\n",
    "X = np.array(x).reshape(len(x),1)\n",
    "\n",
    "#add column of 1\n",
    "X = np.insert(X,0,1,1)\n",
    "Y = np.array(y).reshape(len(y),1)\n",
    "\n",
    "#calculate length of training data set\n",
    "m = len(Y)\n",
    "\n",
    "print(\"\\n cost compute at a given theta = [0,0]\")\n",
    "compute = Compute_cost(theta,X,Y,m)\n",
    "print(compute)\n",
    "\n",
    "theta = Gradient_Descent(theta,m,X,Y,iterations,alpha)\n",
    "\n",
    "print(\"\\n Final values of theta \",theta,\"\\n\")\n",
    "\n",
    "#predict values for a given x and theta\n",
    "print(\"\\n For value 35000 value predicted is :--\",predict(theta,3.5))\n",
    "print(\"\\n For value 70000 value predicted is :--\",predict(theta,7))\n"
   ]
  },
  {
   "cell_type": "code",
   "execution_count": 2,
   "metadata": {},
   "outputs": [],
   "source": [
    "#for plotting Linear Aggression line\n",
    "for i in range(m):\n",
    "    t3.append(float(theta[0] + theta[1]*x[i]))\n",
    "    \n",
    "t3 = np.array(t3).reshape(m,1)"
   ]
  },
  {
   "cell_type": "code",
   "execution_count": 3,
   "metadata": {},
   "outputs": [
    {
     "data": {
      "image/png": "[encoded data removed]",
      "text/plain": [
       "<matplotlib.figure.Figure at 0x7f976855dc88>"
      ]
     },
     "metadata": {},
     "output_type": "display_data"
    }
   ],
   "source": [
    "#plot training dat set\n",
    "plt.plot(x,y,'rx')\n",
    "\n",
    "#plot Linear Regression Line over Training data set\n",
    "plt.plot(x,t3)\n",
    "\n",
    "plt.xlabel(\"population\")\n",
    "plt.ylabel(\"profit\")\n",
    "plt.show()"
   ]
  },
  {
   "cell_type": "code",
   "execution_count": null,
   "metadata": {},
   "outputs": [],
   "source": []
  }
 ],
 "metadata": {
  "kernelspec": {
   "display_name": "Python 3",
   "language": "python",
   "name": "python3"
  },
  "language_info": {
   "codemirror_mode": {
    "name": "ipython",
    "version": 3
   },
   "file_extension": ".py",
   "mimetype": "text/x-python",
   "name": "python",
   "nbconvert_exporter": "python",
   "pygments_lexer": "ipython3",
   "version": "3.6.5"
  }
 },
 "nbformat": 4,
 "nbformat_minor": 2
}
