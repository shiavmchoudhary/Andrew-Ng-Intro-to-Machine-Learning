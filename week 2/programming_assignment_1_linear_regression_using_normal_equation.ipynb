{
 "cells": [
  {
   "cell_type": "code",
   "execution_count": 1,
   "metadata": {},
   "outputs": [
    {
     "name": "stdout",
     "output_type": "stream",
     "text": [
      "[[ 89597.9095428]] [[ 139.21067402]] [[-8738.01911233]]\n",
      "[[ 293081.46433489]]\n"
     ]
    }
   ],
   "source": [
    "import numpy as np\n",
    "from numpy.linalg import inv\n",
    "import pandas as pd\n",
    "\n",
    "#soh contain data of first column\n",
    "#nob contain data of second column\n",
    "#price contain data of third column\n",
    "\n",
    "#predict value for a given theta and features\n",
    "def predict(theta,f1,f2):\n",
    "\n",
    "    predicted = theta[0] + theta[1]*f1 + theta[2]*f2\n",
    "    return predicted\n",
    "\n",
    "\n",
    "soh = []\n",
    "nob = []\n",
    "price = []\n",
    "theta = [0,0,0]\n",
    "\n",
    "#read data from file\n",
    "df = pd.read_csv(\"ex1data2.txt\",header = None)\n",
    "\n",
    "soh = df[0]\n",
    "nob = df[1]\n",
    "price = df[2]\n",
    "lst = [1 for i in range(len(soh))]\n",
    "\n",
    "y = np.matrix(price).reshape(len(df[2]),1)\n",
    "\n",
    "#CREATE MATRIX WHICH STORE FEATURES\n",
    "Xt = np.matrix([lst,soh,nob])\n",
    "\n",
    "X = Xt.transpose()\n",
    "\n",
    "\n",
    "theta = inv(Xt*X)*Xt*y\n",
    "print(theta[0],theta[1],theta[2])\n",
    "print(predict(theta,1650,3))"
   ]
  },
  {
   "cell_type": "code",
   "execution_count": null,
   "metadata": {},
   "outputs": [],
   "source": []
  }
 ],
 "metadata": {
  "kernelspec": {
   "display_name": "Python 3",
   "language": "python",
   "name": "python3"
  },
  "language_info": {
   "codemirror_mode": {
    "name": "ipython",
    "version": 3
   },
   "file_extension": ".py",
   "mimetype": "text/x-python",
   "name": "python",
   "nbconvert_exporter": "python",
   "pygments_lexer": "ipython3",
   "version": "3.6.5"
  }
 },
 "nbformat": 4,
 "nbformat_minor": 2
}
