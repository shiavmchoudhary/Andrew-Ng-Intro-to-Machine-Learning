{
 "cells": [
  {
   "cell_type": "code",
   "execution_count": 1,
   "metadata": {},
   "outputs": [],
   "source": [
    "import numpy as np\n",
    "import re\n",
    "import pandas as pd\n",
    "\n",
    "#load email from file\n",
    "File = open(\"emailSample1.txt\",\"r\")\n",
    "raw_email = File.read()"
   ]
  },
  {
   "cell_type": "code",
   "execution_count": 2,
   "metadata": {},
   "outputs": [
    {
     "name": "stdout",
     "output_type": "stream",
     "text": [
      "> Anyone knows how much it costs to host a web portal ?\n",
      ">\n",
      "Well, it depends on how many visitors you're expecting.\n",
      "This can be anywhere from less than 10 bucks a month to a couple of $100. \n",
      "You should checkout http://www.rackspace.com/ or perhaps Amazon EC2 \n",
      "if youre running something big..\n",
      "\n",
      "To unsubscribe yourself from this mailing list, send an email to:\n",
      "groupname-unsubscribe@egroups.com\n",
      "\n",
      "\n"
     ]
    }
   ],
   "source": [
    "print(raw_email)"
   ]
  },
  {
   "cell_type": "code",
   "execution_count": 3,
   "metadata": {},
   "outputs": [
    {
     "name": "stdout",
     "output_type": "stream",
     "text": [
      "['anyon', 'know', 'how', 'much', 'it', 'cost', 'to', 'host', 'web', 'portal', 'well', 'it', 'depend', 'on', 'how', 'mani', 'visitor', 'you', 're', 'expect', 'thi', 'can', 'be', 'anywher', 'from', 'less', 'than', 'number', 'buck', 'month', 'to', 'coupl', 'of', 'dollarnumb', 'you', 'should', 'checkout', 'httpaddr', 'or', 'perhap', 'amazon', 'ecnumb', 'if', 'your', 'run', 'someth', 'big', 'to', 'unsubscrib', 'yourself', 'from', 'thi', 'mail', 'list', 'send', 'an', 'email', 'to', 'emailaddr']\n"
     ]
    },
    {
     "data": {
      "text/plain": [
       "53"
      ]
     },
     "execution_count": 3,
     "metadata": {},
     "output_type": "execute_result"
    }
   ],
   "source": [
    "from nltk.stem import PorterStemmer\n",
    "\n",
    "ps = PorterStemmer()\n",
    "\n",
    "#load vocabulary\n",
    "Dictionary = pd.read_csv('vocab.txt',delim_whitespace=True,header = None)\n",
    "\n",
    "#create word_indices from raw email\n",
    "    \n",
    "def process_email(email):\n",
    "    \n",
    "    vocab_list = list(Dictionary[1])\n",
    "    email_1 = list()\n",
    "    word_indices = list()\n",
    "    \n",
    "    #remove header\n",
    "    #index = email.index('\\n\\n')\n",
    "    #email = email[index:]\n",
    "    \n",
    "    #lower case all words in raw email\n",
    "    email = email.lower()\n",
    "    \n",
    "    #strip HTML TAGS\n",
    "    email = re.sub(\"<[^<>]+>\", \" \", email)\n",
    "    \n",
    "    #Handle Numbers\n",
    "    email = re.sub('[0-9]+','number',email)\n",
    "    \n",
    "    #Handle URL's\n",
    "    email = re.sub('(http|https)://[^\\s]*', 'httpaddr',email)\n",
    "    \n",
    "    #Handle Email Address\n",
    "    email = re.sub('[^\\s]+@[^\\s]+', 'emailaddr',email)\n",
    "    \n",
    "    #Handle Dollar\n",
    "    email = re.sub('[$]+', 'dollar',email)\n",
    "    \n",
    "    #Remove Punctuation\n",
    "    email = re.split('[ \\@\\/\\#\\.\\-\\:\\&\\*\\+\\=\\[\\]\\?\\!\\(\\)\\{\\}\\,\\'\\>\\_\\<\\;\\%\\\\n]',email)\n",
    "    \n",
    "    for token in email:\n",
    "        if len(token) > 1:\n",
    "            \n",
    "            #stemming of word\n",
    "            token = ps.stem(token)\n",
    "            email_1.append(token)\n",
    "            try:\n",
    "                word_indices.append(Dictionary[0][vocab_list.index(token)]) \n",
    "            except ValueError:\n",
    "                continue\n",
    "    \n",
    "   \n",
    "    print(email_1)\n",
    "    return email_1 , word_indices\n",
    "    \n",
    "proc_email , word_indices = process_email(raw_email)\n",
    "len(word_indices)"
   ]
  },
  {
   "cell_type": "code",
   "execution_count": 63,
   "metadata": {},
   "outputs": [],
   "source": [
    "#Feature Extraction\n",
    "n = len(Dictionary)\n",
    "\n",
    "def emailFeatures(word_indices,a):\n",
    "    features = np.zeros((a,1))\n",
    "    \n",
    "    for index in word_indices:\n",
    "        features[index - 1] = 1\n",
    "    return features\n",
    "\n",
    "feature_matrix = emailFeatures(word_indices,n)"
   ]
  },
  {
   "cell_type": "code",
   "execution_count": 5,
   "metadata": {},
   "outputs": [
    {
     "data": {
      "text/plain": [
       "SVC(C=0.1, cache_size=200, class_weight=None, coef0=0.0,\n",
       "  decision_function_shape='ovr', degree=3, gamma='auto', kernel='linear',\n",
       "  max_iter=-1, probability=False, random_state=None, shrinking=True,\n",
       "  tol=0.001, verbose=False)"
      ]
     },
     "execution_count": 5,
     "metadata": {},
     "output_type": "execute_result"
    }
   ],
   "source": [
    "#Train Linear SVM for Spam Classification\n",
    "\n",
    "import scipy.io as si\n",
    "from sklearn import svm\n",
    "\n",
    "#load Training data from spamTrain.mat file\n",
    "Training_data = si.loadmat('spamTrain.mat')\n",
    "\n",
    "#load Cross-Validation Data\n",
    "Cross_Val_data = si.loadmat('spamTest.mat')\n",
    "\n",
    "C = .1\n",
    "\n",
    "model = svm.SVC(C , kernel = 'linear')\n",
    "model.fit(Training_data['X'] , Training_data['y'].ravel())"
   ]
  },
  {
   "cell_type": "code",
   "execution_count": 44,
   "metadata": {},
   "outputs": [
    {
     "name": "stdout",
     "output_type": "stream",
     "text": [
      "Accuray in Training Data : 99.825\n",
      "Accuray in Test Data : 98.9\n"
     ]
    }
   ],
   "source": [
    "from sklearn import metrics #to calculate accuracy\n",
    "\n",
    "def Accuracy(model,X,y):\n",
    "    \n",
    "    predicted = model.predict(X)\n",
    "    accuracy = metrics.accuracy_score(y,predicted)\n",
    "    return accuracy\n",
    "\n",
    "print(\"Accuray in Training Data :\" , Accuracy(model,Training_data['X'],Training_data['y']) * 100)\n",
    "print(\"Accuray in Test Data :\" , Accuracy(model,Cross_Val_data['Xtest'],Cross_Val_data['ytest']) * 100)"
   ]
  },
  {
   "cell_type": "code",
   "execution_count": 7,
   "metadata": {},
   "outputs": [
    {
     "name": "stdout",
     "output_type": "stream",
     "text": [
      "our 0.500613736175\n",
      "click 0.465916390689\n",
      "remov 0.422869117061\n",
      "guarante 0.383621601794\n",
      "visit 0.367710398246\n",
      "basenumb 0.345064097946\n",
      "dollar 0.323632035796\n",
      "will 0.269724106037\n",
      "price 0.267297714618\n",
      "pleas 0.2611688867\n",
      "most 0.257298197952\n",
      "nbsp 0.25394145516\n",
      "lo 0.253466524314\n",
      "ga 0.248296990456\n",
      "hour 0.246404357832\n",
      "al 0.237310668172\n",
      "da 0.233261215232\n",
      "se 0.23295496246\n",
      "want 0.23194709266\n",
      "dollarnumb 0.229639162845\n"
     ]
    }
   ],
   "source": [
    "#Find Top Predictors for spam\n",
    "\n",
    "coefficients = model.coef_[0]\n",
    "weights = sorted(coefficients , reverse = True)\n",
    "vocab_list = list(Dictionary[1])\n",
    "\n",
    "for i in range(20):\n",
    "    index = list(coefficients).index(weights[i])\n",
    "    print(vocab_list[index] , weights[i])"
   ]
  },
  {
   "cell_type": "code",
   "execution_count": 8,
   "metadata": {},
   "outputs": [
    {
     "name": "stdout",
     "output_type": "stream",
     "text": [
      "From Steve_Burt@cursor-system.com  Thu Aug 22 12:46:39 2002\n",
      "Return-Path: <Steve_Burt@cursor-system.com>\n",
      "Delivered-To: zzzz@localhost.netnoteinc.com\n",
      "Received: from localhost (localhost [127.0.0.1])\n",
      "\tby phobos.labs.netnoteinc.com (Postfix) with ESMTP id BE12E43C34\n",
      "\tfor <zzzz@localhost>; Thu, 22 Aug 2002 07:46:38 -0400 (EDT)\n",
      "Received: from phobos [127.0.0.1]\n",
      "\tby localhost with IMAP (fetchmail-5.9.0)\n",
      "\tfor zzzz@localhost (single-drop); Thu, 22 Aug 2002 12:46:38 +0100 (IST)\n",
      "Received: from n20.grp.scd.yahoo.com (n20.grp.scd.yahoo.com\n",
      "    [66.218.66.76]) by dogma.slashnull.org (8.11.6/8.11.6) with SMTP id\n",
      "    g7MBkTZ05087 for <zzzz@example.com>; Thu, 22 Aug 2002 12:46:29 +0100\n",
      "X-Egroups-Return: sentto-2242572-52726-1030016790-zzzz=example.com@returns.groups.yahoo.com\n",
      "Received: from [66.218.67.196] by n20.grp.scd.yahoo.com with NNFMP;\n",
      "    22 Aug 2002 11:46:30 -0000\n",
      "X-Sender: steve.burt@cursor-system.com\n",
      "X-Apparently-To: zzzzteana@yahoogroups.com\n",
      "Received: (EGP: mail-8_1_0_1); 22 Aug 2002 11:46:29 -0000\n",
      "Received: (qmail 11764 invoked from network); 22 Aug 2002 11:46:29 -0000\n",
      "Received: from unknown (66.218.66.217) by m3.grp.scd.yahoo.com with QMQP;\n",
      "    22 Aug 2002 11:46:29 -0000\n",
      "Received: from unknown (HELO mailgateway.cursor-system.com) (62.189.7.27)\n",
      "    by mta2.grp.scd.yahoo.com with SMTP; 22 Aug 2002 11:46:29 -0000\n",
      "Received: from exchange1.cps.local (unverified) by\n",
      "    mailgateway.cursor-system.com (Content Technologies SMTPRS 4.2.10) with\n",
      "    ESMTP id <T5cde81f695ac1d100407d@mailgateway.cursor-system.com> for\n",
      "    <forteana@yahoogroups.com>; Thu, 22 Aug 2002 13:14:10 +0100\n",
      "Received: by exchange1.cps.local with Internet Mail Service (5.5.2653.19)\n",
      "    id <PXX6AT23>; Thu, 22 Aug 2002 12:46:27 +0100\n",
      "Message-Id: <5EC2AD6D2314D14FB64BDA287D25D9EF12B4F6@exchange1.cps.local>\n",
      "To: \"'zzzzteana@yahoogroups.com'\" <zzzzteana@yahoogroups.com>\n",
      "X-Mailer: Internet Mail Service (5.5.2653.19)\n",
      "X-Egroups-From: Steve Burt <steve.burt@cursor-system.com>\n",
      "From: Steve Burt <Steve_Burt@cursor-system.com>\n",
      "X-Yahoo-Profile: pyruse\n",
      "MIME-Version: 1.0\n",
      "Mailing-List: list zzzzteana@yahoogroups.com; contact\n",
      "    forteana-owner@yahoogroups.com\n",
      "Delivered-To: mailing list zzzzteana@yahoogroups.com\n",
      "Precedence: bulk\n",
      "List-Unsubscribe: <mailto:zzzzteana-unsubscribe@yahoogroups.com>\n",
      "Date: Thu, 22 Aug 2002 12:46:18 +0100\n",
      "Subject: [zzzzteana] RE: Alexander\n",
      "Reply-To: zzzzteana@yahoogroups.com\n",
      "Content-Type: text/plain; charset=US-ASCII\n",
      "Content-Transfer-Encoding: 7bit\n",
      "\n",
      "Martin A posted:\n",
      "Tassos Papadopoulos, the Greek sculptor behind the plan, judged that the\n",
      " limestone of Mount Kerdylio, 70 miles east of Salonika and not far from the\n",
      " Mount Athos monastic community, was ideal for the patriotic sculpture. \n",
      " \n",
      " As well as Alexander's granite features, 240 ft high and 170 ft wide, a\n",
      " museum, a restored amphitheatre and car park for admiring crowds are\n",
      "planned\n",
      "---------------------\n",
      "So is this mountain limestone or granite?\n",
      "If it's limestone, it'll weather pretty fast.\n",
      "\n",
      "------------------------ Yahoo! Groups Sponsor ---------------------~-->\n",
      "4 DVDs Free +s&p Join Now\n",
      "http://us.click.yahoo.com/pt6YBB/NXiEAA/mG3HAA/7gSolB/TM\n",
      "---------------------------------------------------------------------~->\n",
      "\n",
      "To unsubscribe from this group, send an email to:\n",
      "forteana-unsubscribe@egroups.com\n",
      "\n",
      " \n",
      "\n",
      "Your use of Yahoo! Groups is subject to http://docs.yahoo.com/info/terms/ \n",
      "\n",
      "\n",
      "\n",
      "\n",
      "['from', 'emailaddr', 'thu', 'aug', 'number', 'number', 'number', 'number', 'number', 'return', 'path', 'deliv', 'to', 'emailaddr', 'receiv', 'from', 'localhost', 'localhost', 'number', 'number', 'number', 'number', '\\tbi', 'phobo', 'lab', 'netnoteinc', 'com', 'postfix', 'with', 'esmtp', 'id', 'benumberenumbercnumb', '\\tfor', 'thu', 'number', 'aug', 'number', 'number', 'number', 'number', 'number', 'edt', 'receiv', 'from', 'phobo', 'number', 'number', 'number', 'number', '\\tbi', 'localhost', 'with', 'imap', 'fetchmail', 'number', 'number', 'number', '\\tfor', 'emailaddr', 'singl', 'drop', 'thu', 'number', 'aug', 'number', 'number', 'number', 'number', 'number', 'ist', 'receiv', 'from', 'nnumber', 'grp', 'scd', 'yahoo', 'com', 'nnumber', 'grp', 'scd', 'yahoo', 'com', 'number', 'number', 'number', 'number', 'by', 'dogma', 'slashnul', 'org', 'number', 'number', 'number', 'number', 'number', 'number', 'with', 'smtp', 'id', 'gnumbermbktznumb', 'for', 'thu', 'number', 'aug', 'number', 'number', 'number', 'number', 'number', 'egroup', 'return', 'emailaddr', 'receiv', 'from', 'number', 'number', 'number', 'number', 'by', 'nnumber', 'grp', 'scd', 'yahoo', 'com', 'with', 'nnfmp', 'number', 'aug', 'number', 'number', 'number', 'number', 'number', 'sender', 'emailaddr', 'appar', 'to', 'emailaddr', 'receiv', 'egp', 'mail', 'number', 'number', 'number', 'number', 'number', 'aug', 'number', 'number', 'number', 'number', 'number', 'receiv', 'qmail', 'number', 'invok', 'from', 'network', 'number', 'aug', 'number', 'number', 'number', 'number', 'number', 'receiv', 'from', 'unknown', 'number', 'number', 'number', 'number', 'by', 'mnumber', 'grp', 'scd', 'yahoo', 'com', 'with', 'qmqp', 'number', 'aug', 'number', 'number', 'number', 'number', 'number', 'receiv', 'from', 'unknown', 'helo', 'mailgateway', 'cursor', 'system', 'com', 'number', 'number', 'number', 'number', 'by', 'mtanumb', 'grp', 'scd', 'yahoo', 'com', 'with', 'smtp', 'number', 'aug', 'number', 'number', 'number', 'number', 'number', 'receiv', 'from', 'exchangenumb', 'cp', 'local', 'unverifi', 'by', 'mailgateway', 'cursor', 'system', 'com', 'content', 'technolog', 'smtpr', 'number', 'number', 'number', 'with', 'esmtp', 'id', 'for', 'thu', 'number', 'aug', 'number', 'number', 'number', 'number', 'number', 'receiv', 'by', 'exchangenumb', 'cp', 'local', 'with', 'internet', 'mail', 'servic', 'number', 'number', 'number', 'number', 'id', 'thu', 'number', 'aug', 'number', 'number', 'number', 'number', 'number', 'messag', 'id', 'to', 'emailaddr', 'mailer', 'internet', 'mail', 'servic', 'number', 'number', 'number', 'number', 'egroup', 'from', 'steve', 'burt', 'from', 'steve', 'burt', 'yahoo', 'profil', 'pyrus', 'mime', 'version', 'number', 'number', 'mail', 'list', 'list', 'emailaddr', 'contact', 'emailaddr', 'deliv', 'to', 'mail', 'list', 'emailaddr', 'preced', 'bulk', 'list', 'unsubscrib', 'date', 'thu', 'number', 'aug', 'number', 'number', 'number', 'number', 'number', 'subject', 'zzzzteana', 're', 'alexand', 'repli', 'to', 'emailaddr', 'content', 'type', 'text', 'plain', 'charset', 'us', 'ascii', 'content', 'transfer', 'encod', 'numberbit', 'martin', 'post', 'tasso', 'papadopoulo', 'the', 'greek', 'sculptor', 'behind', 'the', 'plan', 'judg', 'that', 'the', 'limeston', 'of', 'mount', 'kerdylio', 'number', 'mile', 'east', 'of', 'salonika', 'and', 'not', 'far', 'from', 'the', 'mount', 'atho', 'monast', 'commun', 'wa', 'ideal', 'for', 'the', 'patriot', 'sculptur', 'as', 'well', 'as', 'alexand', 'granit', 'featur', 'number', 'ft', 'high', 'and', 'number', 'ft', 'wide', 'museum', 'restor', 'amphitheatr', 'and', 'car', 'park', 'for', 'admir', 'crowd', 'are', 'plan', 'so', 'is', 'thi', 'mountain', 'limeston', 'or', 'granit', 'if', 'it', 'limeston', 'it', 'll', 'weather', 'pretti', 'fast', 'yahoo', 'group', 'sponsor', 'number', 'dvd', 'free', 'join', 'now', 'httpaddr', 'to', 'unsubscrib', 'from', 'thi', 'group', 'send', 'an', 'email', 'to', 'emailaddr', 'your', 'use', 'of', 'yahoo', 'group', 'is', 'subject', 'to', 'httpaddr']\n",
      "[0]\n"
     ]
    }
   ],
   "source": [
    "#Try our own Examples\n",
    "\n",
    "#load Test email from file\n",
    "T_File = open(\"test.txt\",\"r\")\n",
    "test_email = T_File.read()\n",
    "print(test_email)\n",
    "\n",
    "#processed our Test Email\n",
    "proc_test_email , test_word_indices = process_email(test_email)\n",
    "\n",
    "#create feature vector\n",
    "test_feature_vector = emailFeatures(test_word_indices)\n",
    "\n",
    "#predict\n",
    "test_predict_val = model.predict(test_feature_vector.T)\n",
    "\n",
    "print(test_predict_val)"
   ]
  },
  {
   "cell_type": "code",
   "execution_count": 46,
   "metadata": {},
   "outputs": [
    {
     "name": "stdout",
     "output_type": "stream",
     "text": [
      "('2011.9604a6dfecb37414590009d7c0c04f30', 0)\n"
     ]
    }
   ],
   "source": [
    "import os #to get names of each email from different folders\n",
    "import random #to shuffle the items of a list\n",
    "\n",
    "#contain names of Email and integer to tell Email is spam or not\n",
    "Email_names = list()\n",
    "\n",
    "#get non-spam Easy Email names\n",
    "for filename in os.listdir('/home/shivam/email/20021010_easy_ham/easy_ham'):\n",
    "    Email_names.append((filename,0))\n",
    "    \n",
    "#get non-spam Hard Email names\n",
    "for filename in os.listdir('/home/shivam/email/20021010_hard_ham/hard_ham'):\n",
    "    Email_names.append((filename,0))\n",
    "\n",
    "#get Spam Email names\n",
    "for filename in os.listdir('/home/shivam/email/spam'):\n",
    "    Email_names.append((filename,1))\n",
    "\n",
    "    \n",
    "#shuffle the elements of list\n",
    "random.shuffle(Email_names)\n",
    "\n",
    "print(Email_names[3400])"
   ]
  },
  {
   "cell_type": "code",
   "execution_count": 47,
   "metadata": {},
   "outputs": [],
   "source": [
    "def proc_email(email):\n",
    "    \n",
    "    email_1 = list()\n",
    "    \n",
    "    #remove header\n",
    "    \n",
    "    email = email[email.find('\\n\\n'):]\n",
    "    \n",
    "    #lower case all words in raw email\n",
    "    email = email.lower()\n",
    "    \n",
    "    #strip HTML TAGS\n",
    "    email = re.sub(\"<[^<>]+>\", \" \", email)\n",
    "    \n",
    "    #Handle Numbers\n",
    "    email = re.sub('[0-9]+','number',email)\n",
    "    \n",
    "    #Handle URL's\n",
    "    email = re.sub('(http|https)://[^\\s]*', 'httpaddr',email)\n",
    "    \n",
    "    #Handle Email Address\n",
    "    email = re.sub('[^\\s]+@[^\\s]+', 'emailaddr',email)\n",
    "    \n",
    "    #Handle Dollar\n",
    "    email = re.sub('[$]+', 'dollar',email)\n",
    "    \n",
    "    #Remove Punctuation\n",
    "    email = re.split('[ \\@\\/\\#\\.\\-\\:\\&\\*\\+\\=\\[\\]\\?\\!\\(\\)\\{\\}\\,\\'\\>\\_\\<\\;\\%\\\\n\\\\t]',email)\n",
    "    \n",
    "    for token in email:\n",
    "        if len(token) > 1:\n",
    "            \n",
    "            #stemming of word\n",
    "            token = ps.stem(token)\n",
    "            email_1.append(token)\n",
    "    \n",
    "    return email_1\n",
    "\n",
    "word_list = list()\n",
    "\n",
    "#Create word_list\n",
    "for i in range(len(Email_names)):\n",
    "    T1_File = open('/home/shivam/email/main_data/' + Email_names[i][0] ,\"r\", errors='ignore')\n",
    "    test_email = T1_File.read()\n",
    "    word_list.append(proc_email(test_email))"
   ]
  },
  {
   "cell_type": "code",
   "execution_count": 48,
   "metadata": {},
   "outputs": [],
   "source": [
    "from collections import defaultdict #to initializze every key's value 0\n",
    "\n",
    "count_word = defaultdict(lambda: 0)\n",
    "\n",
    "#count occurence of a word in given number of Emails\n",
    "for i in range(len(word_list)):\n",
    "    for word in word_list[i]:\n",
    "        count_word[word] = count_word[word] + 1"
   ]
  },
  {
   "cell_type": "code",
   "execution_count": 49,
   "metadata": {},
   "outputs": [],
   "source": [
    "from collections import Counter  #to get most common words\n",
    "\n",
    "#Get most occured words from Emails and stored in vocab_list\n",
    "new_vocab_list = list(dict(Counter(count_word).most_common(2500)).keys())\n",
    "new_vocab_list\n",
    "\n",
    "#Create word_indices for Each Email\n",
    "new_word_indices = list()\n",
    "\n",
    "for i in range(len(word_list)):\n",
    "    temp = list()\n",
    "    for word in word_list[i]:\n",
    "            try:\n",
    "                temp.append(new_vocab_list.index(word) + 1) \n",
    "            except ValueError:\n",
    "                continue\n",
    "    new_word_indices.append(temp)"
   ]
  },
  {
   "cell_type": "code",
   "execution_count": 65,
   "metadata": {},
   "outputs": [],
   "source": [
    "#create feature vector for each email and also create Y(actual result)\n",
    "\n",
    "N = len(new_vocab_list)\n",
    "M = len(Email_names)\n",
    "\n",
    "new_feature_vector = np.zeros((M,N))\n",
    "    \n",
    "for i in range(len(new_word_indices)):\n",
    "    for index in new_word_indices[i]:\n",
    "        new_feature_vector[i][index - 1] = 1\n",
    "\n",
    "#create Y\n",
    "Y = np.zeros((M,1))\n",
    "for i ,data in enumerate(Email_names):\n",
    "    Y[i] = data[1]"
   ]
  },
  {
   "cell_type": "code",
   "execution_count": 51,
   "metadata": {},
   "outputs": [],
   "source": [
    "#split data as Training and Testing Data\n",
    "from sklearn.cross_validation import train_test_split #libraray to split data\n",
    "\n",
    "X_train_new , X_test_new , Y_train_new , Y_test_new = train_test_split(new_feature_vector , Y ,test_size = .3)\n"
   ]
  },
  {
   "cell_type": "code",
   "execution_count": 52,
   "metadata": {},
   "outputs": [
    {
     "data": {
      "text/plain": [
       "SVC(C=0.1, cache_size=200, class_weight=None, coef0=0.0,\n",
       "  decision_function_shape='ovr', degree=3, gamma='auto', kernel='linear',\n",
       "  max_iter=-1, probability=False, random_state=None, shrinking=True,\n",
       "  tol=0.001, verbose=False)"
      ]
     },
     "execution_count": 52,
     "metadata": {},
     "output_type": "execute_result"
    }
   ],
   "source": [
    "#Train Linear SVM for Spam Classification\n",
    "\n",
    "import scipy.io as si\n",
    "from sklearn import svm\n",
    "\n",
    "C = .1\n",
    "\n",
    "model_new = svm.SVC(C , kernel = 'linear')\n",
    "model_new.fit(X_train_new , Y_train_new.ravel())"
   ]
  },
  {
   "cell_type": "code",
   "execution_count": 53,
   "metadata": {},
   "outputs": [
    {
     "name": "stdout",
     "output_type": "stream",
     "text": [
      "Accuray in Training Data : 99.96243426\n",
      "Accuray in Test Data : 98.4224364592\n"
     ]
    }
   ],
   "source": [
    "from sklearn import metrics #to calculate accuracy\n",
    "\n",
    "print(\"Accuray in Training Data :\" , Accuracy(model_new,X_train_new,Y_train_new) * 100)\n",
    "print(\"Accuray in Test Data :\" , Accuracy(model_new,X_test_new,Y_test_new) * 100)"
   ]
  },
  {
   "cell_type": "code",
   "execution_count": 71,
   "metadata": {},
   "outputs": [
    {
     "name": "stdout",
     "output_type": "stream",
     "text": [
      "\n",
      "\n",
      "Dear A,\n",
      "\n",
      "There is a saying that it takes 10,000 hours of doing something to master it. So, to master programming, it might take you 10,000 hours of being actively coding or thinking about coding. That translates to a consistent effort spread out over a number of years. \n",
      "\n",
      "With more than 1,00,000 people already learning to become a master in coding, these courses will give you a head-start to your journey in coding. All the courses have been designed by IIT Alumnis are are updated with the latest trends.\n",
      "\n",
      "These courses are designed so they can be completed In-Semester and only require 3-5 hours/week.\n",
      "\n",
      "Key Elements of the Courses :\n",
      "\n",
      "1. Great learning of Industrial Skills from Experts\n",
      "2. One to One Discussion with Experts\n",
      "3. Assignments related to subject area\n",
      "4. Live Projects of Industries with Internship\n",
      "\n",
      "8 Most important coding certification courses for all:\n",
      "\n",
      "1. Minor Degree in Programming (Save 40%)- Click Here\n",
      "\n",
      "2. Python Programming Certification - Click Here\n",
      "\n",
      "3. Machine Learning Certification - Click Here\n",
      "\n",
      "4. Robotics Certification - Click Here\n",
      "\n",
      "5. Blockchain and Cryptocurrency Certification - Click Here\n",
      "\n",
      "6. Android App Development - Click Here\n",
      "\n",
      "7. Programming for all (Save 70%) - Click Here\n",
      "\n",
      "For list of 30 More Courses: Click Here\n",
      "\n",
      "Read about our latest accomplishment covered by The Indian Express - Click Here\n",
      "\n",
      "Thank you and happy learning :)\n",
      "\n",
      "Regards,\n",
      "Esha Gupta\n",
      "engineering@eckovation.com\n",
      "Eckovation\n",
      "\t\n",
      "\n",
      "\n",
      "['dear', 'there', 'is', 'say', 'that', 'it', 'take', 'number', 'number', 'hour', 'of', 'do', 'someth', 'to', 'master', 'it', 'so', 'to', 'master', 'program', 'it', 'might', 'take', 'you', 'number', 'number', 'hour', 'of', 'be', 'activ', 'code', 'or', 'think', 'about', 'code', 'that', 'translat', 'to', 'consist', 'effort', 'spread', 'out', 'over', 'number', 'of', 'year', 'with', 'more', 'than', 'number', 'number', 'number', 'peopl', 'alreadi', 'learn', 'to', 'becom', 'master', 'in', 'code', 'these', 'cours', 'will', 'give', 'you', 'head', 'start', 'to', 'your', 'journey', 'in', 'code', 'all', 'the', 'cours', 'have', 'been', 'design', 'by', 'iit', 'alumni', 'are', 'are', 'updat', 'with', 'the', 'latest', 'trend', 'these', 'cours', 'are', 'design', 'so', 'they', 'can', 'be', 'complet', 'in', 'semest', 'and', 'onli', 'requir', 'number', 'number', 'hour', 'week', 'key', 'element', 'of', 'the', 'cours', 'number', 'great', 'learn', 'of', 'industri', 'skill', 'from', 'expert', 'number', 'one', 'to', 'one', 'discuss', 'with', 'expert', 'number', 'assign', 'relat', 'to', 'subject', 'area', 'number', 'live', 'project', 'of', 'industri', 'with', 'internship', 'number', 'most', 'import', 'code', 'certif', 'cours', 'for', 'all', 'number', 'minor', 'degre', 'in', 'program', 'save', 'number', 'click', 'here', 'number', 'python', 'program', 'certif', 'click', 'here', 'number', 'machin', 'learn', 'certif', 'click', 'here', 'number', 'robot', 'certif', 'click', 'here', 'number', 'blockchain', 'and', 'cryptocurr', 'certif', 'click', 'here', 'number', 'android', 'app', 'develop', 'click', 'here', 'number', 'program', 'for', 'all', 'save', 'number', 'click', 'here', 'for', 'list', 'of', 'number', 'more', 'cours', 'click', 'here', 'read', 'about', 'our', 'latest', 'accomplish', 'cover', 'by', 'the', 'indian', 'express', 'click', 'here', 'thank', 'you', 'and', 'happi', 'learn', 'regard', 'esha', 'gupta', 'emailaddr', 'eckov']\n",
      "[868, 58, 8, 143, 11, 10, 142, 1, 1, 417, 5, 42, 271, 3, 1673, 10, 50, 3, 1673, 126, 10, 373, 142, 7, 1, 1, 417, 5, 18, 638, 251, 22, 139, 53, 251, 11, 2358, 3, 1993, 649, 2392, 45, 104, 1, 5, 84, 16, 41, 93, 1, 1, 1, 70, 496, 397, 3, 498, 1673, 6, 251, 122, 451, 30, 211, 7, 745, 157, 3, 17, 6, 251, 31, 2, 451, 21, 86, 379, 25, 20, 20, 365, 16, 2, 323, 2202, 122, 451, 20, 379, 50, 48, 32, 18, 328, 6, 4, 64, 231, 1, 1, 417, 194, 371, 1323, 5, 2, 451, 1, 299, 397, 5, 392, 1756, 19, 1045, 1, 47, 3, 47, 394, 16, 1045, 1, 706, 3, 235, 573, 1, 239, 564, 5, 392, 16, 1, 131, 457, 251, 2423, 451, 9, 31, 1, 2288, 2320, 6, 126, 275, 1, 99, 59, 1, 1625, 126, 2423, 99, 59, 1, 688, 397, 2423, 99, 59, 1, 2423, 99, 59, 1, 4, 2423, 99, 59, 1, 1153, 202, 99, 59, 1, 126, 9, 31, 275, 1, 99, 59, 9, 37, 5, 1, 41, 451, 99, 59, 149, 53, 43, 323, 1011, 25, 2, 2485, 1214, 99, 59, 255, 7, 4, 767, 397, 618, 33]\n",
      "(2500, 1)\n",
      "[ 0.]\n"
     ]
    }
   ],
   "source": [
    "#Try our own Examples\n",
    "\n",
    "#load Test email from file\n",
    "T_File = open(\"test.txt\",\"r\")\n",
    "test_email = T_File.read()\n",
    "print(test_email)\n",
    "\n",
    "#processed our Test Email\n",
    "proc_test_email  = proc_email(test_email)\n",
    "\n",
    "print(proc_test_email)\n",
    "\n",
    "test_word_indices = list()\n",
    "for word in proc_test_email:\n",
    "            try:\n",
    "                test_word_indices.append(new_vocab_list.index(word) + 1) \n",
    "            except ValueError:\n",
    "                continue\n",
    "\n",
    "print(test_word_indices)\n",
    "\n",
    "#create feature vector\n",
    "test_feature_vector = emailFeatures(test_word_indices,N)\n",
    "\n",
    "print(test_feature_vector.shape)\n",
    "\n",
    "#predict\n",
    "test_predict_val = model_new.predict(test_feature_vector.T)\n",
    "\n",
    "print(test_predict_val)"
   ]
  },
  {
   "cell_type": "code",
   "execution_count": null,
   "metadata": {},
   "outputs": [],
   "source": []
  }
 ],
 "metadata": {
  "kernelspec": {
   "display_name": "Python 3",
   "language": "python",
   "name": "python3"
  },
  "language_info": {
   "codemirror_mode": {
    "name": "ipython",
    "version": 3
   },
   "file_extension": ".py",
   "mimetype": "text/x-python",
   "name": "python",
   "nbconvert_exporter": "python",
   "pygments_lexer": "ipython3",
   "version": "3.6.5"
  }
 },
 "nbformat": 4,
 "nbformat_minor": 2
}
