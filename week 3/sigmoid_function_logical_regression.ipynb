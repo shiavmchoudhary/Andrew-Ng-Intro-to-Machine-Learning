{
 "cells": [
  {
   "cell_type": "code",
   "execution_count": 2,
   "metadata": {},
   "outputs": [
    {
     "name": "stdout",
     "output_type": "stream",
     "text": [
      "0.00012339457598623172\n",
      "0.0003353501304664781\n",
      "0.0009110511944006454\n",
      "0.0024726231566347743\n",
      "0.0066928509242848554\n",
      "0.01798620996209156\n",
      "0.04742587317756678\n",
      "0.11920292202211755\n",
      "0.2689414213699951\n",
      "0.5\n",
      "0.7310585786300049\n",
      "0.8807970779778823\n",
      "0.9525741268224334\n",
      "0.9820137900379085\n",
      "0.9933071490757153\n",
      "0.9975273768433653\n",
      "0.9990889488055994\n",
      "0.9996646498695336\n",
      "0.9998766054240137\n"
     ]
    },
    {
     "data": {
      "text/plain": [
       "<matplotlib.figure.Figure at 0x7fd9e064cd30>"
      ]
     },
     "metadata": {},
     "output_type": "display_data"
    }
   ],
   "source": [
    "# to get data and form matrices\n",
    "import numpy as np\n",
    "\n",
    "#to plot data\n",
    "import matplotlib.pyplot as plt\n",
    "\n",
    "#to calculate power of (e)\n",
    "import math\n",
    "\n",
    "#sigmoid function implementation\n",
    "def sigmoid_function(z):\n",
    "    return (1/(1 + math.exp(-z)))\n",
    "\n",
    "#exam1 stores score of a student in exam1\n",
    "#exam2 stores score of a student in exam2\n",
    "#result stores whether a student is admitted or not\n",
    "\n",
    "exam1 = []\n",
    "exam2 = []\n",
    "result = []\n",
    "\n",
    "#load data from the file\n",
    "exam1,exam2,result = np.loadtxt(\"ex2data1.txt\",unpack = True , delimiter = \",\")\n",
    "\n",
    "#check working of sigmoid_function\n",
    "sig = []\n",
    "x = [-9,-8,-7,-6,-5,-4,-3,-2,-1,0,1,2,3,4,5,6,7,8,9]\n",
    "\n",
    "for i in range(len(x)):\n",
    "    sig.append(float(sigmoid_function(x[i])))\n",
    "\n",
    "for i in range(len(sig)):\n",
    "    print(sig[i])\n",
    "    \n",
    "plt.plot(x,sig)\n",
    "plt.show()\n"
   ]
  },
  {
   "cell_type": "code",
   "execution_count": 7,
   "metadata": {},
   "outputs": [
    {
     "name": "stdout",
     "output_type": "stream",
     "text": [
      "0.598687660112452\n"
     ]
    }
   ],
   "source": [
    "print(sigmoid_function(.4))"
   ]
  },
  {
   "cell_type": "code",
   "execution_count": null,
   "metadata": {},
   "outputs": [],
   "source": []
  }
 ],
 "metadata": {
  "kernelspec": {
   "display_name": "Python 3",
   "language": "python",
   "name": "python3"
  },
  "language_info": {
   "codemirror_mode": {
    "name": "ipython",
    "version": 3
   },
   "file_extension": ".py",
   "mimetype": "text/x-python",
   "name": "python",
   "nbconvert_exporter": "python",
   "pygments_lexer": "ipython3",
   "version": "3.6.5"
  }
 },
 "nbformat": 4,
 "nbformat_minor": 2
}
