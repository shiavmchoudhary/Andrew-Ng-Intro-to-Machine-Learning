{
 "cells": [
  {
   "cell_type": "code",
   "execution_count": 39,
   "metadata": {},
   "outputs": [
    {
     "data": {
      "image/png": "[encoded data removed]",
      "text/plain": [
       "<matplotlib.figure.Figure at 0x7f91911e8c18>"
      ]
     },
     "metadata": {},
     "output_type": "display_data"
    }
   ],
   "source": [
    "import numpy as np\n",
    "import matplotlib.pyplot as plt\n",
    "#test1 stores score of a student in exam1\n",
    "#test2 stores score of a student in exam2\n",
    "#result stores whether a student is admitted or not\n",
    "\n",
    "\n",
    "test1 = []\n",
    "test2 = []\n",
    "result = []\n",
    "result1 = []\n",
    "result2 = []\n",
    "\n",
    "#load data from the file\n",
    "test1,test2,result = np.loadtxt(\"ex2data2.txt\",unpack = True , delimiter = \",\")\n",
    "result = np.array(result).reshape(len(test1),1)\n",
    "result1 = result\n",
    "result2 = result\n",
    "\n",
    "#plot data\n",
    "for i in range(len(test1)):\n",
    "    if result[i] == 0:\n",
    "        plt.plot(test1[i],test2[i],'ro',color = \"red\")\n",
    "    else:\n",
    "        plt.plot(test1[i],test2[i],'k+',color = \"black\")\n",
    "\n",
    "plt.xlabel(\"Microchip Test1\")\n",
    "plt.ylabel(\"Microchip Test2\")\n",
    "plt.show()\n",
    "\n",
    "#m store number of trainig set\n",
    "m = len(test1)"
   ]
  },
  {
   "cell_type": "code",
   "execution_count": 40,
   "metadata": {},
   "outputs": [
    {
     "name": "stdout",
     "output_type": "stream",
     "text": [
      "[[  1.00000000e+00   5.12670000e-02   6.99560000e-01 ...,   6.29470940e-04\n",
      "    8.58939846e-03   1.17205992e-01]\n",
      " [  1.00000000e+00  -9.27420000e-02   6.84940000e-01 ...,   1.89305413e-03\n",
      "   -1.39810280e-02   1.03255971e-01]\n",
      " [  1.00000000e+00  -2.13710000e-01   6.92250000e-01 ...,   1.04882142e-02\n",
      "   -3.39734512e-02   1.10046893e-01]\n",
      " ..., \n",
      " [  1.00000000e+00  -4.84450000e-01   9.99270000e-01 ...,   2.34007252e-01\n",
      "   -4.82684337e-01   9.95627986e-01]\n",
      " [  1.00000000e+00  -6.33640000e-03   9.99270000e-01 ...,   4.00328554e-05\n",
      "   -6.31330588e-03   9.95627986e-01]\n",
      " [  1.00000000e+00   6.32650000e-01  -3.06120000e-02 ...,   3.51474517e-07\n",
      "   -1.70067777e-08   8.22905998e-10]]\n"
     ]
    }
   ],
   "source": [
    "import pandas as pd\n",
    "from sklearn.preprocessing import PolynomialFeatures as sppf\n",
    "\n",
    "df = pd.read_csv(\"ex2data2.txt\",header = None)\n",
    "df.columns = ['x1','x2','result']\n",
    "\n",
    "#Matrix store features\n",
    "Xt= np.matrix([df['x1'],df['x2']])\n",
    "X = Xt.transpose()\n",
    "\n",
    "#create a 28-dimensional matrix\n",
    "def featureMapping(X):\n",
    "    poly = sppf(6)\n",
    "    return poly.fit_transform(X)\n",
    "\n",
    "#new feature matrix stores high order polynomial terms\n",
    "X_new = np.matrix(featureMapping(X))\n",
    "\n",
    "theta = np.zeros(28).reshape(28,1)\n",
    "print(X_new)\n",
    "\n"
   ]
  },
  {
   "cell_type": "code",
   "execution_count": 42,
   "metadata": {},
   "outputs": [
    {
     "name": "stdout",
     "output_type": "stream",
     "text": [
      "Lamda is 1 and theta is 0\n",
      "\n",
      "[[ 0.69314718]]\n",
      "(matrix([[ 0.00847458]]), matrix([[ 0.01878809]]), matrix([[  7.77711864e-05]]), matrix([[ 0.05034464]]), matrix([[ 0.01150133]]))\n",
      "Lamda is 10 and theta is 1\n",
      "\n",
      "[[ 3.16450933]]\n",
      "(matrix([[ 0.43079084]]), matrix([[ 0.16135192]]), matrix([[ 0.19479576]]), matrix([[ 0.22686278]]), matrix([[ 0.09218568]]))\n"
     ]
    }
   ],
   "source": [
    "#sigmoid function implementation\n",
    "def sigmoid_function(z):\n",
    "          return (1/(1 + np.exp(-z)))\n",
    "\n",
    "#calculate cost for a given theta and fix training set\n",
    "def Cost_function(theta,X,m,result,Lambda):\n",
    "    theta = theta.reshape(28,1)\n",
    "    temp  = result.T*(np.log(sigmoid_function(X*theta)))\n",
    "    temp2 = np.dot((1-result).T,np.log(1 - sigmoid_function(np.dot(X,theta))))\n",
    "    \n",
    "    cost = temp + temp2\n",
    "    cost = -(cost/m)\n",
    "    \n",
    "    #calculate regression term\n",
    "    Reg_Term = (Lambda/(2*m)) * np.sum(np.dot(theta[1:].T,theta[1:]))\n",
    "    \n",
    "    \n",
    "    #UPDATE COST\n",
    "    cost = cost + Reg_Term\n",
    "    return cost\n",
    "\n",
    "#calculate gradient for a given theta and a fix training set\n",
    "def Gradient(theta,X,m,result,Lambda):\n",
    "    theta = theta.reshape(28,1)\n",
    "    gradient = np.dot(X.T,(sigmoid_function(X*theta) - result))\n",
    "    gradient = (gradient/m)\n",
    "   \n",
    "    \n",
    "    #calculate regression term\n",
    "    t = theta[0]\n",
    "    Reg_Term = (Lambda/m) *theta\n",
    "    theta[0] = t\n",
    "    gradient = gradient + Reg_Term\n",
    "    return (gradient[0],gradient[1],gradient[2],gradient[3],gradient[4])\n",
    "\n",
    "#initializes lambda\n",
    "Lambda = 1\n",
    "\n",
    "print(\"Lamda is 1 and theta is 0\\n\")\n",
    "print(Cost_function(theta,X_new,m,result,Lambda))\n",
    "print(Gradient(theta,X_new,m,result,Lambda))\n",
    "\n",
    "\n",
    "#test the model with lambda = 10 and theta = 1\n",
    "\n",
    "Lambda_new = 10\n",
    "theta_test = np.ones(28).reshape(28,1)\n",
    "\n",
    "print(\"Lamda is 10 and theta is 1\\n\")\n",
    "print(Cost_function(theta_test,X_new,m,result,Lambda_new))\n",
    "print(Gradient(theta_test,X_new,m,result,Lambda_new))"
   ]
  },
  {
   "cell_type": "code",
   "execution_count": 17,
   "metadata": {},
   "outputs": [
    {
     "name": "stdout",
     "output_type": "stream",
     "text": [
      "Warning: Maximum number of iterations has been exceeded.\n",
      "         Current function value: 0.238244\n",
      "         Iterations: 500\n",
      "         Function evaluations: 15300\n",
      "         Gradient evaluations: 510\n"
     ]
    }
   ],
   "source": [
    "#for optimization of cost function by optimizing parameters\n",
    "from scipy import optimize\n",
    "from scipy.optimize import minimize\n",
    "\n",
    "Lamda_test_ZERO = 0\n",
    "\n",
    "Lamda_test_100 = 100\n",
    "\n",
    "theta_0 = np.zeros(28).reshape(28,1)\n",
    "\n",
    "theta_100 = np.zeros(28).reshape(28,1)\n",
    "\n",
    "#optimize the parameters using scipy.optimize.minimize and scipy.optimize.fmin\n",
    "opt_ZERO = optimize.minimize(Cost_function, theta_0, args=(X_new,m,result,Lamda_test_ZERO),  method='BFGS', options={\"maxiter\":500, \"disp\":True} )\n",
    "\n",
    "theta_0 = opt_ZERO.x\n",
    "theta_0_value = opt_ZERO.fun"
   ]
  },
  {
   "cell_type": "code",
   "execution_count": 18,
   "metadata": {},
   "outputs": [
    {
     "name": "stdout",
     "output_type": "stream",
     "text": [
      "[   26.9869608     41.93321957    34.94872151  -273.24781389  -133.32340582\n",
      "  -127.62944813  -305.24370625  -391.288171    -255.56003422  -113.41088849\n",
      "   928.3992476    901.731499    1194.97975298   511.22529163   231.8024763\n",
      "   517.00285828   961.11466175  1144.70599034   826.96840813   342.12708691\n",
      "   112.46275582 -1043.69131755 -1592.91935839 -2504.05576228 -1991.01233482\n",
      " -1591.16696711  -594.33628417  -174.4792035 ]\n",
      "0.2382437582680834\n"
     ]
    }
   ],
   "source": [
    "print(theta_0)\n",
    "print(theta_0_value)\n",
    "#print(theta_100_value)"
   ]
  },
  {
   "cell_type": "code",
   "execution_count": 19,
   "metadata": {},
   "outputs": [
    {
     "data": {
      "image/png": "[encoded data removed]",
      "text/plain": [
       "<matplotlib.figure.Figure at 0x7f919198af60>"
      ]
     },
     "metadata": {},
     "output_type": "display_data"
    }
   ],
   "source": [
    "import matplotlib.pyplot as plt\n",
    "#plot graph when lambda = 0\n",
    "\n",
    "#plot data-set\n",
    "for i in range(len(test1)):\n",
    "    if result[i] == 0:\n",
    "        plt.plot(test1[i],test2[i],'ro',color = \"red\")\n",
    "    else:\n",
    "        plt.plot(test1[i],test2[i],'k+',color = \"black\")\n",
    "\n",
    "plt.xlabel(\"Microchip Test1\")\n",
    "plt.ylabel(\"Microchip Test2\")\n",
    "\n",
    "xlin = np.linspace(-1,1.5,50)\n",
    "ylin = np.linspace(-1,1.5,50)\n",
    "zlin = np.zeros((len(xlin),len(ylin)))\n",
    "\n",
    "for i in range(len(xlin)):\n",
    "    for j in range(len(ylin)):\n",
    "        temp_matric = np.matrix([xlin[i],ylin[j]])\n",
    "        zlin[i][j] = np.dot(theta_0,featureMapping(temp_matric).T)\n",
    "zlin = zlin.T\n",
    "u,v = np.meshgrid(xlin,ylin)\n",
    "contou_plot = plt.contour(xlin,ylin,zlin,[0])\n",
    "plt.show()"
   ]
  },
  {
   "cell_type": "code",
   "execution_count": 20,
   "metadata": {},
   "outputs": [
    {
     "name": "stdout",
     "output_type": "stream",
     "text": [
      "Optimization terminated successfully.\n",
      "         Current function value: 0.529003\n",
      "         Iterations: 47\n",
      "         Function evaluations: 1440\n",
      "         Gradient evaluations: 48\n"
     ]
    },
    {
     "data": {
      "image/png": "[encoded data removed]",
      "text/plain": [
       "<matplotlib.figure.Figure at 0x7f91919f2ef0>"
      ]
     },
     "metadata": {},
     "output_type": "display_data"
    }
   ],
   "source": [
    "#for optimization of cost function by optimizing parameters\n",
    "from scipy import optimize\n",
    "from scipy.optimize import minimize\n",
    "import matplotlib.pyplot as plt\n",
    "\n",
    "Lamda_test_ONE = 1\n",
    "theta_1 = np.zeros(28).reshape(28,1)\n",
    "\n",
    "opt_ONE = optimize.minimize(Cost_function, theta_1, args=(X_new,m,result1,Lamda_test_ONE),  method='BFGS', options={\"maxiter\":500, \"disp\":True} )\n",
    "\n",
    "theta_1 = opt_ONE.x\n",
    "theta_1_value = opt_ONE.fun\n",
    "\n",
    "#plot graph when lambda = 1\n",
    "\n",
    "#plot data-set\n",
    "for i in range(len(test1)):\n",
    "    if result[i] == 0:\n",
    "        plt.plot(test1[i],test2[i],'ro',color = \"red\")\n",
    "    else:\n",
    "        plt.plot(test1[i],test2[i],'k+',color = \"black\")\n",
    "\n",
    "plt.xlabel(\"Microchip Test1\")\n",
    "plt.ylabel(\"Microchip Test2\")\n",
    "\n",
    "xlin = np.linspace(-1,1.5,50)\n",
    "ylin = np.linspace(-1,1.5,50)\n",
    "zlin = np.zeros((len(xlin),len(ylin)))\n",
    "\n",
    "for i in range(len(xlin)):\n",
    "    for j in range(len(ylin)):\n",
    "        temp_matric = np.matrix([xlin[i],ylin[j]])\n",
    "        zlin[i][j] = np.dot(theta_1,featureMapping(temp_matric).T)\n",
    "zlin = zlin.T\n",
    "u,v = np.meshgrid(xlin,ylin)\n",
    "contou_plot = plt.contour(xlin,ylin,zlin,[0])\n",
    "plt.show()"
   ]
  },
  {
   "cell_type": "code",
   "execution_count": 22,
   "metadata": {},
   "outputs": [
    {
     "name": "stdout",
     "output_type": "stream",
     "text": [
      "Optimization terminated successfully.\n",
      "         Current function value: 0.648216\n",
      "         Iterations: 21\n",
      "         Function evaluations: 660\n",
      "         Gradient evaluations: 22\n"
     ]
    },
    {
     "data": {
      "image/png": "[encoded data removed]",
      "text/plain": [
       "<matplotlib.figure.Figure at 0x7f91918f7860>"
      ]
     },
     "metadata": {},
     "output_type": "display_data"
    }
   ],
   "source": [
    "#for optimization of cost function by optimizing parameters\n",
    "from scipy import optimize\n",
    "from scipy.optimize import minimize\n",
    "\n",
    "Lamda_test_10 = 10\n",
    "theta_10 = np.zeros(28).reshape(28,1)\n",
    "\n",
    "opt_10 = optimize.minimize(Cost_function, theta_10, args=(X_new,m,result1,Lamda_test_10),  method='BFGS', options={\"maxiter\":500, \"disp\":True} )\n",
    "\n",
    "\n",
    "theta_10 = opt_10.x\n",
    "theta_10_value = opt_10.fun\n",
    "\n",
    "import matplotlib.pyplot as plt\n",
    "#plot graph when lambda = 10\n",
    "\n",
    "#plot data-set\n",
    "for i in range(len(test1)):\n",
    "    if result[i] == 0:\n",
    "        plt.plot(test1[i],test2[i],'ro',color = \"red\")\n",
    "    else:\n",
    "        plt.plot(test1[i],test2[i],'k+',color = \"black\")\n",
    "\n",
    "plt.xlabel(\"Microchip Test1\")\n",
    "plt.ylabel(\"Microchip Test2\")\n",
    "\n",
    "xlin = np.linspace(-1,1.5,50)\n",
    "ylin = np.linspace(-1,1.5,50)\n",
    "zlin = np.zeros((len(xlin),len(ylin)))\n",
    "\n",
    "for i in range(len(xlin)):\n",
    "    for j in range(len(ylin)):\n",
    "        temp_matric = np.matrix([xlin[i],ylin[j]])\n",
    "        zlin[i][j] = np.dot(theta_10,featureMapping(temp_matric).T)\n",
    "zlin = zlin.T\n",
    "u,v = np.meshgrid(xlin,ylin)\n",
    "contou_plot = plt.contour(xlin,ylin,zlin,[0])\n",
    "plt.show()"
   ]
  },
  {
   "cell_type": "code",
   "execution_count": 23,
   "metadata": {},
   "outputs": [
    {
     "name": "stdout",
     "output_type": "stream",
     "text": [
      "[ 0.32617629 -0.00818426  0.16576246 -0.44671257 -0.11184491 -0.27889563\n",
      " -0.0714147  -0.0579626  -0.06515766 -0.10636118 -0.3367736  -0.01298217\n",
      " -0.1167755  -0.02812656 -0.2860551  -0.11612312 -0.03708066 -0.02244028\n",
      " -0.04890226 -0.04166959 -0.18673751 -0.2533691  -0.00291247 -0.05800248\n",
      " -0.00053337 -0.06356787 -0.0120822  -0.27149265]\n",
      "0.6482157032892324\n",
      "[[ 0.6482157]]\n"
     ]
    }
   ],
   "source": [
    "print(theta_10)\n",
    "print(theta_10_value)\n",
    "print(Cost_function(theta_10,X_new,m,result,10))"
   ]
  },
  {
   "cell_type": "code",
   "execution_count": 24,
   "metadata": {},
   "outputs": [
    {
     "name": "stdout",
     "output_type": "stream",
     "text": [
      "Optimization terminated successfully.\n",
      "         Current function value: 0.686484\n",
      "         Iterations: 7\n",
      "         Function evaluations: 240\n",
      "         Gradient evaluations: 8\n",
      "[ 0.02188605 -0.01748167  0.00571028 -0.05516939 -0.01314887 -0.0385992\n",
      " -0.01846355 -0.00773235 -0.00892435 -0.02280491 -0.04343874 -0.00235624\n",
      " -0.01415631 -0.00349508 -0.04143634 -0.02100597 -0.00471922 -0.00359134\n",
      " -0.00632234 -0.00502444 -0.03197707 -0.03416353 -0.00107628 -0.00702623\n",
      " -0.00038507 -0.00798241 -0.00154777 -0.0410871 ]\n",
      "0.6864838338807362\n"
     ]
    },
    {
     "data": {
      "image/png": "[encoded data removed]",
      "text/plain": [
       "<matplotlib.figure.Figure at 0x7f91918f76a0>"
      ]
     },
     "metadata": {},
     "output_type": "display_data"
    }
   ],
   "source": [
    "#for optimization of cost function by optimizing parameters\n",
    "from scipy import optimize\n",
    "from scipy.optimize import minimize\n",
    "\n",
    "Lamda_test_100 = 100\n",
    "theta_100 = np.zeros(28).reshape(28,1)\n",
    "\n",
    "opt_100 = optimize.minimize(Cost_function, theta_100, args=(X_new,m,result1,Lamda_test_100),  method='BFGS', options={\"maxiter\":500, \"disp\":True} )\n",
    "\n",
    "\n",
    "theta_100 = opt_100.x\n",
    "theta_100_value = opt_100.fun\n",
    "\n",
    "print(theta_100)\n",
    "print(theta_100_value)\n",
    "import matplotlib.pyplot as plt\n",
    "#plot graph when lambda = 100\n",
    "\n",
    "#plot data-set\n",
    "for i in range(len(test1)):\n",
    "    if result[i] == 0:\n",
    "        plt.plot(test1[i],test2[i],'ro',color = \"red\")\n",
    "    else:\n",
    "        plt.plot(test1[i],test2[i],'k+',color = \"black\")\n",
    "\n",
    "plt.xlabel(\"Microchip Test1\")\n",
    "plt.ylabel(\"Microchip Test2\")\n",
    "\n",
    "xlin = np.linspace(-1,1.5,50)\n",
    "ylin = np.linspace(-1,1.5,50)\n",
    "zlin = np.zeros((len(xlin),len(ylin)))\n",
    "\n",
    "for i in range(len(xlin)):\n",
    "    for j in range(len(ylin)):\n",
    "        temp_matric = np.matrix([xlin[i],ylin[j]])\n",
    "        zlin[i][j] = np.dot(theta_100,featureMapping(temp_matric).T)\n",
    "zlin = zlin.T\n",
    "u,v = np.meshgrid(xlin,ylin)\n",
    "contou_plot = plt.contour(xlin,ylin,zlin,[0])\n",
    "plt.show()"
   ]
  },
  {
   "cell_type": "code",
   "execution_count": 25,
   "metadata": {},
   "outputs": [
    {
     "name": "stdout",
     "output_type": "stream",
     "text": [
      "[ 0.02188605 -0.01748167  0.00571028 -0.05516939 -0.01314887 -0.0385992\n",
      " -0.01846355 -0.00773235 -0.00892435 -0.02280491 -0.04343874 -0.00235624\n",
      " -0.01415631 -0.00349508 -0.04143634 -0.02100597 -0.00471922 -0.00359134\n",
      " -0.00632234 -0.00502444 -0.03197707 -0.03416353 -0.00107628 -0.00702623\n",
      " -0.00038507 -0.00798241 -0.00154777 -0.0410871 ]\n",
      "0.6864838338807362\n"
     ]
    }
   ],
   "source": [
    "print(theta_100)\n",
    "print(theta_100_value)"
   ]
  },
  {
   "cell_type": "code",
   "execution_count": null,
   "metadata": {},
   "outputs": [],
   "source": []
  }
 ],
 "metadata": {
  "kernelspec": {
   "display_name": "Python 3",
   "language": "python",
   "name": "python3"
  },
  "language_info": {
   "codemirror_mode": {
    "name": "ipython",
    "version": 3
   },
   "file_extension": ".py",
   "mimetype": "text/x-python",
   "name": "python",
   "nbconvert_exporter": "python",
   "pygments_lexer": "ipython3",
   "version": "3.6.5"
  }
 },
 "nbformat": 4,
 "nbformat_minor": 2
}
