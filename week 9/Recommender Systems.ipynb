{
 "cells": [
  {
   "cell_type": "code",
   "execution_count": 146,
   "metadata": {},
   "outputs": [],
   "source": [
    "import scipy.io as si\n",
    "import numpy as np\n",
    "import matplotlib.pyplot as plt\n",
    "\n",
    "#load dataset\n",
    "File = si.loadmat('ex8_movies.mat')\n",
    "\n",
    "#  Y is a 1682x943 matrix, containing ratings (1-5) of 1682 movies on  943 users\n",
    "Y = File['Y']\n",
    "\n",
    "# R is a 1682x943 matrix, where R(i,j) = 1 if and only if user j gave a rating to movie i\n",
    "R = File['R']\n",
    "\n",
    "#load features X and parameters (Theta) of Users\n",
    "File_2 = si.loadmat('ex8_movieParams.mat')\n",
    "X = File_2['X']\n",
    "Theta = File_2['Theta']"
   ]
  },
  {
   "cell_type": "code",
   "execution_count": 147,
   "metadata": {},
   "outputs": [
    {
     "name": "stdout",
     "output_type": "stream",
     "text": [
      "Average rating for movie 1 (Toy Story):  3.8783185840707963\n"
     ]
    }
   ],
   "source": [
    "print('Average rating for movie 1 (Toy Story): ',Y[0][np.where(R[0] == 1)].mean())"
   ]
  },
  {
   "cell_type": "code",
   "execution_count": 148,
   "metadata": {},
   "outputs": [
    {
     "data": {
      "image/png": "[encoded data removed]",
      "text/plain": [
       "<matplotlib.figure.Figure at 0x7f1009de6908>"
      ]
     },
     "metadata": {},
     "output_type": "display_data"
    }
   ],
   "source": [
    "plt.imshow(Y, aspect = 'auto')\n",
    "plt.xlabel('users')\n",
    "plt.ylabel('movies')\n",
    "plt.show()"
   ]
  },
  {
   "cell_type": "markdown",
   "metadata": {},
   "source": [
    "# Collaborative Filtering Cost Function"
   ]
  },
  {
   "cell_type": "code",
   "execution_count": 172,
   "metadata": {},
   "outputs": [
    {
     "name": "stdout",
     "output_type": "stream",
     "text": [
      "31.34405624427422 [ -0.95596339   6.97535514  -0.10861109   0.60308088   2.77421145\n",
      "   0.25839822   0.12985616   4.0898522   -0.89247334   0.29684395\n",
      "   1.06300933   0.66738144   0.60252677   4.90185327  -0.19747928\n",
      " -10.13985478   2.10136256  -6.76563628  -2.29347024   0.48244098\n",
      "  -2.99791422  -0.64787484  -0.71820673   1.27006666   1.09289758\n",
      "  -0.40784086   0.49026541] \n",
      "\n"
     ]
    }
   ],
   "source": [
    "num_users = 4\n",
    "num_movies = 5\n",
    "num_features = 3;\n",
    "\n",
    "X_test = X[0:num_movies,0:num_features]\n",
    "Y_test = Y[0:num_movies,0:num_users]\n",
    "Theta_test = Theta[0:num_users,0:num_features]\n",
    "R_test = R[0:num_movies,0:num_users]\n",
    "\n",
    "#Cost Function\n",
    "def cofiCostFunc(params, Y, R, num_users, num_movies,num_features, lamda):\n",
    "    \n",
    "    #Extract Feature Matrix (X) and Weights (Theta) from params\n",
    "    X = params[0:num_movies*num_features].reshape(num_movies,num_features)\n",
    "    Theta = params[num_movies*num_features:].reshape(num_users,num_features)\n",
    "    \n",
    "    #compute Regularization Term for Theta\n",
    "    #Reg_Theta = (lamda/2)*(np.sum(Theta**2))\n",
    "    \n",
    "    #compute Regularization Term for X\n",
    "    #Reg_X = (lamda/2)*(np.sum(X**2))\n",
    "    \n",
    "    #compute Cost\n",
    "    temp = (np.multiply((np.dot(X,Theta.T)),R) -  Y)\n",
    "    J = (np.sum(temp**2)/2) + (lamda/2)*((np.sum(Theta**2)) + (np.sum(X**2)))\n",
    "    \n",
    "    #compute Theta_grad\n",
    "    Theta_grad = np.dot(X.T,temp).T  + lamda*(Theta)\n",
    "\n",
    "    #compute X_grad\n",
    "    X_grad = np.dot(temp,Theta) + lamda*(X)\n",
    "    \n",
    "    #merge \n",
    "    grad = np.concatenate((X_grad.ravel(),Theta_grad.ravel()))\n",
    "    return J , grad \n",
    "\n",
    "#merge X_test and Theta_test into a column vector params\n",
    "params = np.concatenate((X_test.ravel(),Theta_test.ravel()))\n",
    "\n",
    "lamda = 1.5\n",
    "J ,grad = cofiCostFunc(params, Y_test.copy(), R_test.copy(), num_users, num_movies,num_features, lamda)\n",
    "\n",
    "print(J , grad ,'\\n')"
   ]
  },
  {
   "cell_type": "markdown",
   "metadata": {},
   "source": [
    "# Collaborative Filtering Gradient"
   ]
  },
  {
   "cell_type": "code",
   "execution_count": 150,
   "metadata": {},
   "outputs": [
    {
     "name": "stdout",
     "output_type": "stream",
     "text": [
      "    num_grad  [-0.47781589  6.71141926  6.73478607  0.65981406 -0.90704868 -4.01169456\n",
      "  1.41064851 -0.17943807 -2.12655429 -1.62696888  3.44749736  0.92910973\n",
      " -3.6474361  -1.34000232  1.21989515  1.59466575 -2.16566161 -6.56422996\n",
      " -0.7086322  -3.27592192 -1.77191058  1.21323963 -0.79928761 -1.35263466\n",
      "  1.58130532 -4.29220012 -1.9318926 ]\n",
      "    grad_t [-0.47781589  6.71141926  6.73478607  0.65981406 -0.90704868 -4.01169456\n",
      "  1.41064851 -0.17943807 -2.12655429 -1.62696888  3.44749736  0.92910973\n",
      " -3.6474361  -1.34000232  1.21989515  1.59466575 -2.16566161 -6.56422996\n",
      " -0.7086322  -3.27592192 -1.77191058  1.21323963 -0.79928761 -1.35263466\n",
      "  1.58130532 -4.29220012 -1.9318926 ]\n",
      "\n",
      " difference :  -3.4051678029110364e-12\n"
     ]
    }
   ],
   "source": [
    "def computeNumericalGradient(Jcost , params_t):\n",
    "    \n",
    "    params_t = params_t.reshape(len(params_t),1)\n",
    "    num_grad = np.zeros((params_t.shape[0],params_t.shape[1]))\n",
    "    perturb = np.zeros((params_t.shape[0],params_t.shape[1]))\n",
    "    e = 1e-4;\n",
    "\n",
    "    for p in range(params.shape[0]):\n",
    "        \n",
    "        #Set perturbation vector\n",
    "        perturb[p] = e;\n",
    "        loss1 , a = Jcost(params_t-perturb)\n",
    "        loss2  , b = Jcost(params_t+perturb)\n",
    "        \n",
    "        #Compute Numerical Gradient\n",
    "        num_grad[p] = (loss2 - loss1) / (2*e);\n",
    "        perturb[p] = 0;\n",
    "    \n",
    "    return num_grad\n",
    "\n",
    "def CheckCostFunction(lamda_t):\n",
    "    \n",
    "    # Create small problem\n",
    "    X_t = np.random.random((4, 3))\n",
    "    Theta_t = np.random.random((5, 3))\n",
    "\n",
    "    # Zap out most entries\n",
    "    Y_t = np.dot(X_t,Theta_t.T)\n",
    "    Y_t[np.random.rand(Y_t.shape[0],Y_t.shape[1]) > 0.5] = 0\n",
    "   \n",
    "\n",
    "    R_t = np.zeros((Y_t.shape[0],Y_t.shape[1]))\n",
    "    R_t[Y_t!=0] = 1\n",
    "    \n",
    "\n",
    "    #Run Gradient Checking\n",
    "    X_tt = np.random.randn(X_t.shape[0],X_t.shape[1])\n",
    "    \n",
    "\n",
    "    Theta_tt = np.random.randn(Theta_t.shape[0],Theta_t.shape[1])\n",
    "    \n",
    "\n",
    "    num_users_t = Y_t.shape[1]\n",
    "    num_movies_t = Y_t.shape[0]\n",
    "    num_features_t = Theta_t.shape[1]\n",
    "\n",
    "    #rolling X_tt and Theta_tt into params\n",
    "    params_t = params = np.concatenate((X_tt.ravel(),Theta_tt.ravel()))\n",
    "\n",
    "\n",
    "    #compute numerical Gradient\n",
    "    num_grad = computeNumericalGradient(lambda t : cofiCostFunc(t, Y_t, R_t, num_users_t, num_movies_t,num_features_t, lamda_t),params_t)\n",
    "\n",
    "    #compute Gradient using Cost Function\n",
    "    J_t , grad_t = cofiCostFunc(params_t, Y_t, R_t, num_users_t, num_movies_t,num_features_t, lamda_t)\n",
    "    \n",
    "    print('    num_grad ' ,num_grad.ravel())\n",
    "    print( '    grad_t',grad_t)\n",
    "    \n",
    "    \n",
    "    diff = np.sum(num_grad - grad_t)/np.sum(num_grad + grad_t)\n",
    "    print('\\n' , 'difference : ', diff)\n",
    "    \n",
    "CheckCostFunction(1.5)\n",
    "    "
   ]
  },
  {
   "cell_type": "markdown",
   "metadata": {},
   "source": [
    "# Entering ratings for a new user"
   ]
  },
  {
   "cell_type": "code",
   "execution_count": 151,
   "metadata": {},
   "outputs": [
    {
     "name": "stdout",
     "output_type": "stream",
     "text": [
      "Toy Story (1995)\n"
     ]
    }
   ],
   "source": [
    "import re #use to call rstrip function which removes \\n from a string\n",
    "\n",
    "def loadMovielist():\n",
    "    \n",
    "    #open file\n",
    "    text_file = open(\"movie_ids.txt\", \"r\",encoding=\"ISO-8859-1\")\n",
    "\n",
    "    movielist = list()\n",
    "    \n",
    "    #Read line\n",
    "    for i in text_file.readlines():\n",
    "        \n",
    "        #Word Index (can ignore since it will be = index in movielist)\n",
    "        idx ,t = i.split(' ',1)\n",
    "        \n",
    "        #Actual Word\n",
    "        movielist.append(t.rstrip())\n",
    "    \n",
    "    return movielist\n",
    "\n",
    "movielist = loadMovielist()\n",
    "print(movielist[0])"
   ]
  },
  {
   "cell_type": "code",
   "execution_count": 152,
   "metadata": {},
   "outputs": [
    {
     "name": "stdout",
     "output_type": "stream",
     "text": [
      "New user ratings : \n",
      "\n",
      "[['4.0' 'Toy Story (1995)']\n",
      " ['3.0' 'Twelve Monkeys (1995)']\n",
      " ['5.0' 'Usual Suspects, The (1995)']\n",
      " ['4.0' 'Outbreak (1995)']\n",
      " ['5.0' 'Shawshank Redemption, The (1994)']\n",
      " ['3.0' 'While You Were Sleeping (1995)']\n",
      " ['5.0' 'Forrest Gump (1994)']\n",
      " ['2.0' 'Silence of the Lambs, The (1991)']\n",
      " ['4.0' 'Alien (1979)']\n",
      " ['5.0' 'Die Hard 2 (1990)']\n",
      " ['5.0' 'Sphere (1998)']]\n"
     ]
    }
   ],
   "source": [
    "#Initialize my ratings\n",
    "my_ratings = np.zeros((len(movielist), 1))\n",
    "\n",
    "#We have selected a few movies we liked / did not like and the ratings we gave are as follows:\n",
    "my_ratings[0] = 4\n",
    "my_ratings[97] = 2\n",
    "my_ratings[6] = 3\n",
    "my_ratings[11]= 5\n",
    "my_ratings[53] = 4\n",
    "my_ratings[63]= 5\n",
    "my_ratings[65]= 3\n",
    "my_ratings[68] = 5\n",
    "my_ratings[182] = 4\n",
    "my_ratings[225] = 5\n",
    "my_ratings[354]= 5\n",
    "\n",
    "print('New user ratings : \\n')\n",
    "indexes = np.where(my_ratings > 0)[0]\n",
    "print(np.concatenate((my_ratings[indexes],(np.array([movielist])).T[indexes]),axis = 1))"
   ]
  },
  {
   "cell_type": "markdown",
   "metadata": {},
   "source": [
    "# Learning Movie Ratings"
   ]
  },
  {
   "cell_type": "code",
   "execution_count": 174,
   "metadata": {},
   "outputs": [
    {
     "name": "stdout",
     "output_type": "stream",
     "text": [
      "[[1. 1. 0. ... 0. 0. 1.]\n",
      " [1. 0. 0. ... 0. 1. 0.]\n",
      " [1. 0. 0. ... 0. 0. 0.]\n",
      " ...\n",
      " [0. 0. 0. ... 0. 0. 0.]\n",
      " [0. 0. 0. ... 0. 0. 0.]\n",
      " [0. 0. 0. ... 0. 0. 0.]]\n"
     ]
    }
   ],
   "source": [
    "#load data\n",
    "File_2 = si.loadmat('ex8_movies.mat')\n",
    "Y_movie = File_2['Y']\n",
    "R_movie = File_2['R']\n",
    "\n",
    "# Add our own ratings to the data matrix\n",
    "Y_movie = np.concatenate((Y_movie,my_ratings),axis = 1)\n",
    "\n",
    "R_my_ratings = np.zeros(my_ratings.shape)\n",
    "R_my_ratings[my_ratings!=0] = 1\n",
    "\n",
    "R_movie = np.concatenate((R_movie,R_my_ratings),axis = 1)\n",
    "print(R_movie)"
   ]
  },
  {
   "cell_type": "markdown",
   "metadata": {},
   "source": [
    "# Normalize Ratings"
   ]
  },
  {
   "cell_type": "code",
   "execution_count": 165,
   "metadata": {},
   "outputs": [
    {
     "name": "stdout",
     "output_type": "stream",
     "text": [
      "(1682,) (1682, 944)\n",
      "(26260,)\n"
     ]
    }
   ],
   "source": [
    "def normalizeRatings(y,r):\n",
    "    Y_mean = np.sum(y,axis = 1)/(np.count_nonzero(y,axis = 1))\n",
    "    Y_norm = y - Y_mean.reshape(len(Y_mean),1)\n",
    "        \n",
    "    return Y_mean,Y_norm\n",
    "\n",
    "# Normalize Ratings\n",
    "Ymean , Ynorm = normalizeRatings(Y_movie,R_movie)\n",
    "print(Ymean.shape,Ynorm.shape)\n",
    "\n",
    "#Useful Values\n",
    "num_users_M = Y_movie.shape[1]\n",
    "num_movies_M = Y_movie.shape[0]\n",
    "num_features_M = 10\n",
    "\n",
    "# Set Initial Parameters (Theta_M, X_M)\n",
    "X_M = np.random.randn(num_movies_M,num_features_M)\n",
    "Theta_M = np.random.randn(num_users_M,num_features_M)\n",
    "\n",
    "initial_params = np.concatenate((X_M.ravel(),Theta_M.ravel()))\n",
    "print(initial_params.shape)\n",
    "#Set Regularization\n",
    "lamda_M = 10"
   ]
  },
  {
   "cell_type": "markdown",
   "metadata": {},
   "source": [
    "# Y_norm values are generated but not used in calling the optimization routine in the Octave code.   \n",
    "# However, Y_mean is used to shift predicted Y values, which is why the predicted ratings at the top of Fig. 4 are > 5."
   ]
  },
  {
   "cell_type": "code",
   "execution_count": 198,
   "metadata": {},
   "outputs": [],
   "source": [
    "#optimize our parameters using fmin_cg\n",
    "import scipy.optimize as so\n",
    "\n",
    "opt = so.minimize(cofiCostFunc, x0=initial_params,method = 'TNC',args=(Y_movie,R_movie,num_users_M,num_movies_M,num_features_M,lamda_M),jac = True,options = {'maxiter':1000,'disp' :True})\n"
   ]
  },
  {
   "cell_type": "code",
   "execution_count": 199,
   "metadata": {},
   "outputs": [
    {
     "data": {
      "text/plain": [
       "     fun: 71897.36472186088\n",
       "     jac: array([-2.24173548e-05, -4.16636869e-05, -2.06058749e-05, ...,\n",
       "       -4.10871248e-06,  1.73804329e-06,  7.76761147e-06])\n",
       " message: 'Max. number of function evaluations reached'\n",
       "    nfev: 1000\n",
       "     nit: 48\n",
       "  status: 3\n",
       " success: False\n",
       "       x: array([-0.45989134, -0.11785832, -0.21045292, ...,  0.00157549,\n",
       "        0.24828275, -0.47953891])"
      ]
     },
     "execution_count": 199,
     "metadata": {},
     "output_type": "execute_result"
    }
   ],
   "source": [
    "opt"
   ]
  },
  {
   "cell_type": "code",
   "execution_count": 200,
   "metadata": {},
   "outputs": [],
   "source": [
    "#Unfold the returned theta back into X_r and Theta_r\n",
    "X_r = opt.x[0:num_movies_M*num_features_M].reshape(num_movies_M,num_features_M)\n",
    "Theta_r = opt.x[num_movies_M*num_features_M:].reshape(num_users_M,num_features_M)"
   ]
  },
  {
   "cell_type": "markdown",
   "metadata": {},
   "source": [
    "# Recommendation for you"
   ]
  },
  {
   "cell_type": "code",
   "execution_count": 206,
   "metadata": {},
   "outputs": [],
   "source": [
    "p = X_r.dot(Theta_r.T)\n",
    "my_predictions = p[:,943] + Ymean"
   ]
  },
  {
   "cell_type": "code",
   "execution_count": 207,
   "metadata": {},
   "outputs": [
    {
     "name": "stdout",
     "output_type": "stream",
     "text": [
      "Predicting rating  8.537134704815971   for movie  Titanic (1997)\n",
      "Predicting rating  8.478462741217582   for movie  Star Wars (1977)\n",
      "Predicting rating  8.332996500975234   for movie  Shawshank Redemption, The (1994)\n",
      "Predicting rating  8.23160448803618   for movie  Raiders of the Lost Ark (1981)\n",
      "Predicting rating  8.19329305110021   for movie  Schindler's List (1993)\n",
      "Predicting rating  8.172625325202425   for movie  Good Will Hunting (1997)\n",
      "Predicting rating  8.067377713990274   for movie  Empire Strikes Back, The (1980)\n",
      "Predicting rating  8.042730635299955   for movie  Usual Suspects, The (1995)\n",
      "Predicting rating  8.035028379896348   for movie  Godfather, The (1972)\n",
      "Predicting rating  8.022812211864702   for movie  Braveheart (1995)\n"
     ]
    }
   ],
   "source": [
    "for i in range(10):\n",
    "    j = np.argsort(-my_predictions)[i]\n",
    "    print('Predicting rating ',my_predictions[j] ,'  for movie ', movielist[j])"
   ]
  },
  {
   "cell_type": "code",
   "execution_count": 203,
   "metadata": {},
   "outputs": [
    {
     "name": "stdout",
     "output_type": "stream",
     "text": [
      "[['4.0' 'Toy Story (1995)']\n",
      " ['3.0' 'Twelve Monkeys (1995)']\n",
      " ['5.0' 'Usual Suspects, The (1995)']\n",
      " ['4.0' 'Outbreak (1995)']\n",
      " ['5.0' 'Shawshank Redemption, The (1994)']\n",
      " ['3.0' 'While You Were Sleeping (1995)']\n",
      " ['5.0' 'Forrest Gump (1994)']\n",
      " ['2.0' 'Silence of the Lambs, The (1991)']\n",
      " ['4.0' 'Alien (1979)']\n",
      " ['5.0' 'Die Hard 2 (1990)']\n",
      " ['5.0' 'Sphere (1998)']]\n"
     ]
    }
   ],
   "source": [
    "indexes = np.where(my_ratings > 0)[0]\n",
    "print(np.concatenate((my_ratings[indexes],(np.array([movielist])).T[indexes]),axis = 1))"
   ]
  }
 ],
 "metadata": {
  "kernelspec": {
   "display_name": "Python 3",
   "language": "python",
   "name": "python3"
  },
  "language_info": {
   "codemirror_mode": {
    "name": "ipython",
    "version": 3
   },
   "file_extension": ".py",
   "mimetype": "text/x-python",
   "name": "python",
   "nbconvert_exporter": "python",
   "pygments_lexer": "ipython3",
   "version": "3.6.5"
  }
 },
 "nbformat": 4,
 "nbformat_minor": 2
}
