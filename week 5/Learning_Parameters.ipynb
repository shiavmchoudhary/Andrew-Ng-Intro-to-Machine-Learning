{
 "cells": [
  {
   "cell_type": "code",
   "execution_count": 1,
   "metadata": {},
   "outputs": [],
   "source": [
    "from scipy.special import expit #to calculate logit \n",
    "import scipy.io as si\n",
    "import numpy as np\n",
    "\n",
    "#.mat file has two matrix X (5000*400) and y(5000*1)\n",
    "File = si.loadmat('ex4data1.mat')\n",
    "\n",
    "#sigmoid function implementation\n",
    "def sigmoid_function(z):\n",
    "          return expit(z)\n",
    "\n",
    "#sigmoid gradient implementation\n",
    "def sigmoid_gradient(Z):\n",
    "    temp = sigmoid_function(Z)\n",
    "    return (temp*(1 - temp))\n",
    "\n",
    "#implement Forward Propagation\n",
    "def compute_input_layer(theta1,input_layer):\n",
    "    return (sigmoid_function(np.dot(input_layer,theta1.T)))\n",
    "\n",
    "def compute_hidden_layer(theta2,A):\n",
    "    return (sigmoid_function(np.dot(A,theta2.T)))\n",
    "\n",
    "#return 5000*10 matrix\n",
    "def compute_hypothesis(Theta1,Theta2,input_layer):\n",
    "    \n",
    "    #get 5000*25 matrix\n",
    "    A1 = compute_input_layer(Theta1,input_layer)\n",
    "    \n",
    "    #change A dim to 5000*26\n",
    "    A1 = np.insert(A1,0,1,axis = 1)\n",
    "\n",
    "    #get 5000*10 matrix\n",
    "    A2 = compute_hidden_layer(Theta2,A1)\n",
    "    return A2 , A1\n",
    "\n",
    "#implement Cost function for Neural Nertwork with no Regularization\n",
    "\n",
    "#implement Cost function for Neural Nertwork with  Regularization\n",
    "def Cost_function_reg(Theta_L,input_layer,actual_result,K,Lambda,m,shape1,shape2):\n",
    "    \n",
    "    #unroll t_theta1 and t_theta2\n",
    "    t_theta1 = (Theta_L[0:shape1[0]*shape1[1]]).reshape(shape1[0],shape1[1])\n",
    "    t_theta2 = (Theta_L[shape1[0]*shape1[1]:]).reshape(shape2[0],shape2[1])\n",
    "    \n",
    "    #create theta1 and theta2\n",
    "    theta1 = t_theta1\n",
    "    theta1 = np.delete(theta1,0,1)\n",
    "    theta2 = t_theta2\n",
    "    theta2 = np.delete(theta2,0,1)\n",
    "    \n",
    "    #calculate hypothesis\n",
    "    hypothesis1 , hypothesis2 = compute_hypothesis(t_theta1,t_theta2,input_layer)\n",
    "    \n",
    "    #iterate it for each training data\n",
    "    term1 =  - np.sum(np.multiply(actual_result,np.log(hypothesis1))) \n",
    "    term2 =  - np.sum(np.multiply((1 -actual_result),np.log(1 - hypothesis1))) \n",
    "    cost =  term1 + term2\n",
    "            \n",
    "    cost = (cost/m)\n",
    "    \n",
    "    #calculate Regularizarion Term\n",
    "    \n",
    "    #minimize each theta presents in all_theta dictionary\n",
    "                      \n",
    "    #regularize theta1\n",
    "    t1 = np.sum(theta1*theta1) \n",
    "    \n",
    "    #regularize theta2\n",
    "    t2 = np.sum(theta2*theta2)\n",
    "    \n",
    "    Reg_term = (Lambda/(2*m)) * (t1 + t2)\n",
    "   \n",
    "    #update cost\n",
    "    cost = cost + Reg_term\n",
    "    return cost\n"
   ]
  },
  {
   "cell_type": "code",
   "execution_count": 2,
   "metadata": {},
   "outputs": [],
   "source": [
    "#implement BackPropagation\n",
    "def BackPropagation_Reg(Theta_L,input_layer,output_layer,K,Lambda,m,shape1,shape2):\n",
    "    \n",
    "    #unroll t_theta1 and t_theta2\n",
    "    t_theta1 = (Theta_L[0:shape1[0]*shape1[1]]).reshape(shape1[0],shape1[1])\n",
    "    t_theta2 = (Theta_L[shape1[0]*shape1[1]:]).reshape(shape2[0],shape2[1])\n",
    "    \n",
    "    t1 = t_theta1\n",
    "    t2 = t_theta2\n",
    "\n",
    "    #calculate forward propagation\n",
    "    hypothesis1 , hypothesis2 = compute_hypothesis(t_theta1,t_theta2,input_layer)\n",
    "    \n",
    "    #computes small delta\n",
    "    \n",
    "    #compute delta_3\n",
    "    delta_3 = hypothesis1 - output_layer\n",
    "    \n",
    "    #compute delta_2\n",
    "    term1 = delta_3.dot(init_theta2)\n",
    "    delta_2 = term1*(hypothesis2*(1 - hypothesis2))\n",
    "    delta_2 = np.delete(delta_2,0,1)\n",
    "    \n",
    "    #compute gradient for layer 1 with regularization\n",
    "    grad_1 = np.dot(input_layer.T,delta_2).T\n",
    "    grad_1 = grad_1/m\n",
    "    \n",
    "    t1 = np.delete(t1,0,1)\n",
    "    t1 = np.insert(t1,0,0,1)\n",
    "    \n",
    "    grad_1 = grad_1 + (Lambda/m)*t1\n",
    "    \n",
    "    #compute gradient for layer 2\n",
    "    grad_2 = ((delta_3).transpose()).dot(hypothesis2)\n",
    "    grad_2 = grad_2/m\n",
    "    \n",
    "    t2 = np.delete(t2,0,1)\n",
    "    t2 = np.insert(t2,0,0,1)\n",
    "    grad_2 = grad_2 + (Lambda/m)*t2\n",
    "    \n",
    "    #make a long gradient vector\n",
    "    grad_L = np.concatenate((grad_1.flatten(),grad_2.flatten()))\n",
    "    grad_L = np.ndarray.flatten(grad_L)\n",
    "    return (grad_L)\n"
   ]
  },
  {
   "cell_type": "code",
   "execution_count": 3,
   "metadata": {},
   "outputs": [
    {
     "name": "stdout",
     "output_type": "stream",
     "text": [
      "5000\n",
      "(10285,)\n"
     ]
    }
   ],
   "source": [
    "#load input_layer\n",
    "input_layer = np.array(File['X'])\n",
    "input_layer = np.insert(input_layer,0,1,axis = 1)\n",
    "m = len(File['X'])\n",
    "print(m)\n",
    "#create actual result of training set in form of {0,1}\n",
    "def result_binary(actual_result,num_labels):\n",
    "    y = np.zeros((len(actual_result),num_labels))\n",
    "    for i in range(len(actual_result)):\n",
    "        temp = actual_result[i]\n",
    "        y[i][temp - 1] = 1\n",
    "    return y\n",
    "\n",
    "output_layer = result_binary(File['y'],10)\n",
    "\n",
    "#randomly initializes theata1(25,401) and theta2(10,26) for a given epsilon\n",
    "Lambda = 1\n",
    "K = 10\n",
    "input_layer_size = 400\n",
    "hidden_layer_size = 25\n",
    "\n",
    "shape1 = (25,401)\n",
    "shape2 = (10,26)\n",
    "\n",
    "def randInitializes(L_in,L_out):\n",
    "    epsilon = 0.12\n",
    "    rand_theta = np.random.rand(L_out,1 + L_in)*2*epsilon - epsilon\n",
    "    return rand_theta\n",
    "\n",
    "init_theta1 = randInitializes(input_layer_size,hidden_layer_size)\n",
    "init_theta2 = randInitializes(hidden_layer_size,K)\n",
    "\n",
    "#create a long theta\n",
    "theta_L = np.concatenate((init_theta1.flatten(),init_theta2.flatten()))\n",
    "theta_L = np.ndarray.flatten(theta_L)\n",
    "print(theta_L.shape)"
   ]
  },
  {
   "cell_type": "code",
   "execution_count": 4,
   "metadata": {},
   "outputs": [
    {
     "name": "stdout",
     "output_type": "stream",
     "text": [
      "(10285,)\n"
     ]
    }
   ],
   "source": [
    "gradient = BackPropagation_Reg(theta_L,input_layer,output_layer,K,Lambda,m,shape1,shape2)\n",
    "print(gradient.shape)"
   ]
  },
  {
   "cell_type": "code",
   "execution_count": 6,
   "metadata": {},
   "outputs": [
    {
     "ename": "MemoryError",
     "evalue": "",
     "output_type": "error",
     "traceback": [
      "\u001b[0;31m---------------------------------------------------------------------------\u001b[0m",
      "\u001b[0;31mMemoryError\u001b[0m                               Traceback (most recent call last)",
      "\u001b[0;32m<ipython-input-6-ca5ef40aec36>\u001b[0m in \u001b[0;36m<module>\u001b[0;34m()\u001b[0m\n\u001b[1;32m      4\u001b[0m \u001b[0;34m\u001b[0m\u001b[0m\n\u001b[1;32m      5\u001b[0m \u001b[0;31m#opt = minimize(Cost_function_reg,theta_L,args = (input_layer,output_layer,K,0,m,shape1,shape2),method = 'TNC' ,options = {'maxiter':20,'disp':True})\u001b[0m\u001b[0;34m\u001b[0m\u001b[0;34m\u001b[0m\u001b[0m\n\u001b[0;32m----> 6\u001b[0;31m \u001b[0mresult\u001b[0m \u001b[0;34m=\u001b[0m \u001b[0mscipy\u001b[0m\u001b[0;34m.\u001b[0m\u001b[0moptimize\u001b[0m\u001b[0;34m.\u001b[0m\u001b[0mfmin_bfgs\u001b[0m\u001b[0;34m(\u001b[0m\u001b[0mCost_function_reg\u001b[0m\u001b[0;34m,\u001b[0m \u001b[0mx0\u001b[0m\u001b[0;34m=\u001b[0m\u001b[0mtheta_L\u001b[0m \u001b[0;34m,\u001b[0m\u001b[0mfprime\u001b[0m \u001b[0;34m=\u001b[0m \u001b[0mBackPropagation_Reg\u001b[0m\u001b[0;34m,\u001b[0m\u001b[0margs\u001b[0m\u001b[0;34m=\u001b[0m\u001b[0;34m(\u001b[0m\u001b[0minput_layer\u001b[0m\u001b[0;34m,\u001b[0m\u001b[0moutput_layer\u001b[0m\u001b[0;34m,\u001b[0m\u001b[0mK\u001b[0m\u001b[0;34m,\u001b[0m\u001b[0mLambda\u001b[0m\u001b[0;34m,\u001b[0m\u001b[0mm\u001b[0m\u001b[0;34m,\u001b[0m\u001b[0mshape1\u001b[0m\u001b[0;34m,\u001b[0m\u001b[0mshape2\u001b[0m\u001b[0;34m)\u001b[0m\u001b[0;34m,\u001b[0m\u001b[0mmaxiter\u001b[0m \u001b[0;34m=\u001b[0m \u001b[0;36m200\u001b[0m\u001b[0;34m,\u001b[0m\u001b[0mdisp\u001b[0m\u001b[0;34m=\u001b[0m\u001b[0;32mTrue\u001b[0m\u001b[0;34m,\u001b[0m\u001b[0mfull_output\u001b[0m \u001b[0;34m=\u001b[0m \u001b[0;32mTrue\u001b[0m\u001b[0;34m)\u001b[0m\u001b[0;34m\u001b[0m\u001b[0m\n\u001b[0m",
      "\u001b[0;32m/usr/lib/python3/dist-packages/scipy/optimize/optimize.py\u001b[0m in \u001b[0;36mfmin_bfgs\u001b[0;34m(f, x0, fprime, args, gtol, norm, epsilon, maxiter, full_output, disp, retall, callback)\u001b[0m\n\u001b[1;32m    857\u001b[0m             'return_all': retall}\n\u001b[1;32m    858\u001b[0m \u001b[0;34m\u001b[0m\u001b[0m\n\u001b[0;32m--> 859\u001b[0;31m     \u001b[0mres\u001b[0m \u001b[0;34m=\u001b[0m \u001b[0m_minimize_bfgs\u001b[0m\u001b[0;34m(\u001b[0m\u001b[0mf\u001b[0m\u001b[0;34m,\u001b[0m \u001b[0mx0\u001b[0m\u001b[0;34m,\u001b[0m \u001b[0margs\u001b[0m\u001b[0;34m,\u001b[0m \u001b[0mfprime\u001b[0m\u001b[0;34m,\u001b[0m \u001b[0mcallback\u001b[0m\u001b[0;34m=\u001b[0m\u001b[0mcallback\u001b[0m\u001b[0;34m,\u001b[0m \u001b[0;34m**\u001b[0m\u001b[0mopts\u001b[0m\u001b[0;34m)\u001b[0m\u001b[0;34m\u001b[0m\u001b[0m\n\u001b[0m\u001b[1;32m    860\u001b[0m \u001b[0;34m\u001b[0m\u001b[0m\n\u001b[1;32m    861\u001b[0m     \u001b[0;32mif\u001b[0m \u001b[0mfull_output\u001b[0m\u001b[0;34m:\u001b[0m\u001b[0;34m\u001b[0m\u001b[0m\n",
      "\u001b[0;32m/usr/lib/python3/dist-packages/scipy/optimize/optimize.py\u001b[0m in \u001b[0;36m_minimize_bfgs\u001b[0;34m(fun, x0, args, jac, callback, gtol, norm, eps, maxiter, disp, return_all, **unknown_options)\u001b[0m\n\u001b[1;32m    972\u001b[0m                 \u001b[0mprint\u001b[0m\u001b[0;34m(\u001b[0m\u001b[0;34m\"Divide-by-zero encountered: rhok assumed large\"\u001b[0m\u001b[0;34m)\u001b[0m\u001b[0;34m\u001b[0m\u001b[0m\n\u001b[1;32m    973\u001b[0m         \u001b[0mA1\u001b[0m \u001b[0;34m=\u001b[0m \u001b[0mI\u001b[0m \u001b[0;34m-\u001b[0m \u001b[0msk\u001b[0m\u001b[0;34m[\u001b[0m\u001b[0;34m:\u001b[0m\u001b[0;34m,\u001b[0m \u001b[0mnumpy\u001b[0m\u001b[0;34m.\u001b[0m\u001b[0mnewaxis\u001b[0m\u001b[0;34m]\u001b[0m \u001b[0;34m*\u001b[0m \u001b[0myk\u001b[0m\u001b[0;34m[\u001b[0m\u001b[0mnumpy\u001b[0m\u001b[0;34m.\u001b[0m\u001b[0mnewaxis\u001b[0m\u001b[0;34m,\u001b[0m \u001b[0;34m:\u001b[0m\u001b[0;34m]\u001b[0m \u001b[0;34m*\u001b[0m \u001b[0mrhok\u001b[0m\u001b[0;34m\u001b[0m\u001b[0m\n\u001b[0;32m--> 974\u001b[0;31m         \u001b[0mA2\u001b[0m \u001b[0;34m=\u001b[0m \u001b[0mI\u001b[0m \u001b[0;34m-\u001b[0m \u001b[0myk\u001b[0m\u001b[0;34m[\u001b[0m\u001b[0;34m:\u001b[0m\u001b[0;34m,\u001b[0m \u001b[0mnumpy\u001b[0m\u001b[0;34m.\u001b[0m\u001b[0mnewaxis\u001b[0m\u001b[0;34m]\u001b[0m \u001b[0;34m*\u001b[0m \u001b[0msk\u001b[0m\u001b[0;34m[\u001b[0m\u001b[0mnumpy\u001b[0m\u001b[0;34m.\u001b[0m\u001b[0mnewaxis\u001b[0m\u001b[0;34m,\u001b[0m \u001b[0;34m:\u001b[0m\u001b[0;34m]\u001b[0m \u001b[0;34m*\u001b[0m \u001b[0mrhok\u001b[0m\u001b[0;34m\u001b[0m\u001b[0m\n\u001b[0m\u001b[1;32m    975\u001b[0m         Hk = numpy.dot(A1, numpy.dot(Hk, A2)) + (rhok * sk[:, numpy.newaxis] *\n\u001b[1;32m    976\u001b[0m                                                  sk[numpy.newaxis, :])\n",
      "\u001b[0;31mMemoryError\u001b[0m: "
     ]
    }
   ],
   "source": [
    "#optimize theta_L with fmincg\n",
    "import scipy.optimize\n",
    "from scipy.optimize import minimize\n",
    "\n",
    "#opt = minimize(Cost_function_reg,theta_L,args = (input_layer,output_layer,K,0,m,shape1,shape2),method = 'TNC' ,options = {'maxiter':20,'disp':True})\n",
    "result = scipy.optimize.fmin_bfgs(Cost_function_reg, x0=theta_L ,fprime = BackPropagation_Reg,args=(input_layer,output_layer,K,Lambda,m,shape1,shape2),maxiter = 200,disp=True,full_output = True)\n"
   ]
  },
  {
   "cell_type": "code",
   "execution_count": 18,
   "metadata": {},
   "outputs": [
    {
     "name": "stdout",
     "output_type": "stream",
     "text": [
      "(10285,) (10285,)\n",
      "-0.11799590500508601 -2.48822679348802 -0.06574374029862518 -0.02143280553937993\n",
      "0.671802351764\n"
     ]
    }
   ],
   "source": [
    "print(theta_L.shape,result[0].T.shape)\n",
    "opt_theta1 = result[0][0:25*401].reshape(25,401)\n",
    "opt_theta2 = result[0][25*401:].reshape(10,26)\n",
    "print(opt_theta1[0].item(0),opt_theta2[1].item(0),init_theta1[0].item(0),init_theta2[0].item(0))\n",
    "\n",
    "Theta_L = np.concatenate((opt_theta1.flatten(),opt_theta2.flatten()))\n",
    "Theta_L = Theta_L.reshape(len(opt_theta1.flatten()) + len(opt_theta2.flatten()) ,1)\n",
    "\n",
    "print(Cost_function_reg(Theta_L,input_layer,output_layer,K,Lambda,m,shape1,shape2))"
   ]
  },
  {
   "cell_type": "code",
   "execution_count": 8,
   "metadata": {},
   "outputs": [],
   "source": [
    "#prediction and accuracy\n",
    "def predict_accuracy(theta1,theta2,input_layer,result):\n",
    "    correct = 0\n",
    "    wrong = 0\n",
    "    hypothesis1 , hypothesis2 = compute_hypothesis(theta1,theta2,input_layer)\n",
    "\n",
    "    for j in range(len(hypothesis1)):\n",
    "        \n",
    "        #find classifier which have highest probability for jth training set\n",
    "        classifier = np.argmax(hypothesis1[j]) + 1\n",
    "        #print(\"\\nFor data \",j,\"  classifier = \",classifier,\" Actual result is \",result[j])\n",
    "        \n",
    "        if (classifier == result[j]):\n",
    "            correct += 1\n",
    "        else:\n",
    "            wrong += 1\n",
    "\n",
    "    print(\"Accuracy of our model is \",(correct*100)/5000 , \"correct = \",correct,\" wrong = \",wrong)"
   ]
  },
  {
   "cell_type": "code",
   "execution_count": 19,
   "metadata": {},
   "outputs": [
    {
     "name": "stdout",
     "output_type": "stream",
     "text": [
      "Accuracy of our model is  92.98 correct =  4649  wrong =  351\n"
     ]
    }
   ],
   "source": [
    "#all_theta =  si.loadmat('ex4weights.mat')\n",
    "\n",
    "predict_accuracy(opt_theta1,opt_theta2,input_layer,File['y'])"
   ]
  },
  {
   "cell_type": "code",
   "execution_count": 20,
   "metadata": {},
   "outputs": [
    {
     "name": "stdout",
     "output_type": "stream",
     "text": [
      "[   0  200  400  600  800 1000 1200 1400 1600 1800 2000 2200 2400 2600 2800\n",
      " 3000 3200 3400 3600 3800 4000 4200 4400 4600 4800]\n"
     ]
    },
    {
     "data": {
      "text/plain": [
       "<matplotlib.image.AxesImage at 0x7f4ae1515da0>"
      ]
     },
     "execution_count": 20,
     "metadata": {},
     "output_type": "execute_result"
    },
    {
     "data": {
      "image/png": "[encoded data removed]",
      "text/plain": [
       "<matplotlib.figure.Figure at 0x7f4addeb1860>"
      ]
     },
     "metadata": {},
     "output_type": "display_data"
    }
   ],
   "source": [
    "import matplotlib.pyplot as plt\n",
    "#plot data\n",
    "#create array to store 25 images with 20*20 pixels of each image\n",
    "display = np.zeros((100,100))\n",
    "\n",
    "#select randomly 25 numbers\n",
    "selected = np.array(range(0,5000,200))\n",
    "print(selected)\n",
    "\n",
    "rows = 0\n",
    "cols = 0\n",
    "\n",
    "for data in selected:\n",
    "    #create matrix of image from selected training data-sets\n",
    "    \n",
    "    #compute hidden layer for ith training set\n",
    "    hidden_layer = compute_input_layer(opt_theta1,input_layer[data])\n",
    "    activated_unit = np.argmax(hidden_layer)\n",
    "    \n",
    "    #get matrix of corresponding theta1 for which activated unit has highest probability\n",
    "    act_matrix = opt_theta1[activated_unit].reshape(1,401)\n",
    "    #remove bias unit\n",
    "    act_matrix = np.delete(act_matrix,0,1)\n",
    "    \n",
    "    \n",
    "    #Transpose the data to get a straight image\n",
    "    temp = act_matrix.reshape(20,20).T\n",
    "    \n",
    "    #check if the first row of display array is filled or not\n",
    "    if cols == 5:\n",
    "        cols = 0\n",
    "        rows += 1\n",
    "    \n",
    "    #copy data of temp into display array\n",
    "    display[rows*20:rows*20+20,cols*20:cols*20+20] = temp\n",
    "    cols += 1\n",
    "\n",
    "#plot display as images\n",
    "plt.axis('off')\n",
    "plt.imshow(display,cmap='gray')"
   ]
  },
  {
   "cell_type": "code",
   "execution_count": null,
   "metadata": {},
   "outputs": [],
   "source": []
  }
 ],
 "metadata": {
  "kernelspec": {
   "display_name": "Python 3",
   "language": "python",
   "name": "python3"
  },
  "language_info": {
   "codemirror_mode": {
    "name": "ipython",
    "version": 3
   },
   "file_extension": ".py",
   "mimetype": "text/x-python",
   "name": "python",
   "nbconvert_exporter": "python",
   "pygments_lexer": "ipython3",
   "version": "3.6.5"
  }
 },
 "nbformat": 4,
 "nbformat_minor": 2
}
