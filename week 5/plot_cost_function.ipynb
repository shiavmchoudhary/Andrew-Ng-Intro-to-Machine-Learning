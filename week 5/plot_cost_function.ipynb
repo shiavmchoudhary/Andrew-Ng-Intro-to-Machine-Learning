{
 "cells": [
  {
   "cell_type": "code",
   "execution_count": 3,
   "metadata": {},
   "outputs": [
    {
     "data": {
      "text/plain": [
       "<matplotlib.image.AxesImage at 0x7f23f7ded780>"
      ]
     },
     "execution_count": 3,
     "metadata": {},
     "output_type": "execute_result"
    }
   ],
   "source": [
    "#load training sets from .mat file\n",
    "\n",
    "#to import .mat file\n",
    "import scipy.io as si\n",
    "import numpy as np\n",
    "from scipy.special import expit\n",
    "import random #to generate random numbers\n",
    "import matplotlib.pyplot as plt\n",
    "\n",
    "#.mat file has two matrix X (5000*400) and y(5000*1)\n",
    "File = si.loadmat('ex4data1.mat')\n",
    "\n",
    "#plot data\n",
    "#create array to store 100 images with 20*20 pixels of each image\n",
    "display = np.zeros((200,200))\n",
    "\n",
    "#select randomly 100 numbers\n",
    "selected = random.sample(range(0,5000),100)\n",
    "\n",
    "rows = 0\n",
    "cols = 0\n",
    "\n",
    "for data in selected:\n",
    "    #create matrix of image from selected training data-sets\n",
    "    #Transpose the data to get a straight image\n",
    "    temp = np.array(File['X'][data]).reshape(20,20).T\n",
    "    \n",
    "    #check if the first row of display array is filled or not\n",
    "    if cols == 10:\n",
    "        cols = 0\n",
    "        rows += 1\n",
    "    \n",
    "    #copy data of temp into display array\n",
    "    display[rows*20:rows*20 + 20,cols*20:cols*20 + 20] = temp\n",
    "    cols += 1\n",
    "\n",
    "#plot display as images\n",
    "plt.axis('off')\n",
    "plt.imshow(display,cmap='gray',interpolation = 'gaussian')"
   ]
  },
  {
   "cell_type": "code",
   "execution_count": 4,
   "metadata": {},
   "outputs": [
    {
     "name": "stdout",
     "output_type": "stream",
     "text": [
      "(25, 401) (10, 26)\n"
     ]
    }
   ],
   "source": [
    "#load parameters\n",
    "all_theta =  si.loadmat('ex4weights.mat')\n",
    "print(all_theta['Theta1'].shape,all_theta['Theta2'].shape)\n",
    "\n",
    "#load input_layer\n",
    "input_layer = np.array(File['X'])\n",
    "input_layer = np.insert(input_layer,0,1,axis = 1)"
   ]
  },
  {
   "cell_type": "code",
   "execution_count": 5,
   "metadata": {},
   "outputs": [],
   "source": [
    "from scipy.special import expit #to calculate logit \n",
    "\n",
    "\n",
    "#sigmoid function implementation\n",
    "def sigmoid_function(z):\n",
    "          return expit(z)\n",
    "    \n",
    "#implement Forward Propagation\n",
    "def compute_input_layer(theta1,input_layer):\n",
    "    return (sigmoid_function(np.dot(input_layer,theta1.T)))\n",
    "\n",
    "def compute_hidden_layer(theta2,A):\n",
    "    return (sigmoid_function(np.dot(A,theta2.T)))\n",
    "\n",
    "#return 5000*10 matrix\n",
    "def compute_hypothesis(input_layer,all_theta):\n",
    "    \n",
    "    #get 5000*25 matrix\n",
    "    A1 = compute_input_layer(all_theta['Theta1'],input_layer)\n",
    "    \n",
    "    #change A dim to 5000*26\n",
    "    A1 = np.insert(A1,0,1,axis = 1)\n",
    "\n",
    "    #get 5000*10 matrix\n",
    "    A2 = compute_hidden_layer(all_theta['Theta2'],A1)\n",
    "    return A2\n",
    "\n"
   ]
  },
  {
   "cell_type": "code",
   "execution_count": 7,
   "metadata": {},
   "outputs": [
    {
     "name": "stdout",
     "output_type": "stream",
     "text": [
      "0.00011266153022739022\n"
     ]
    }
   ],
   "source": [
    "#hypothesis for all tarining set\n",
    "hypothesis = compute_hypothesis(input_layer,all_theta)\n",
    "print(hypothesis[0].item(0))"
   ]
  },
  {
   "cell_type": "code",
   "execution_count": 8,
   "metadata": {},
   "outputs": [],
   "source": [
    "#implement Cost function for Neural Nertwork with no Regularization\n",
    "\n",
    "#return the actual result of Kth classifier for a given data in training set\n",
    "def get_result(actual_result,K,data):\n",
    "    if K == 0:\n",
    "        K = 10\n",
    "    if actual_result[data] == K:\n",
    "        return 1\n",
    "    else:\n",
    "        return 0\n",
    "\n",
    "#return the value for Kth classifier for a given data in training set\n",
    "def get_hypo_value_K(hypothesis,data,K):\n",
    "    if K == 0:\n",
    "        return (hypothesis[data].item(K + 9))\n",
    "    else:\n",
    "        return (hypothesis[data].item(K -1))\n",
    "\n",
    "#calculate cost for a given training data and parameters\n",
    "def Cost_function_n_reg(input_layer,all_theta,actual_result,K):\n",
    "    \n",
    "    #calculate hypothesis\n",
    "    hypothesis = compute_hypothesis(input_layer,all_theta)\n",
    "    \n",
    "    cost = 0\n",
    "    #iterate it for each training data\n",
    "    for i in range(len(hypothesis)):\n",
    "        #for each class\n",
    "        for j in range(K):\n",
    "            term1 =  - get_result(actual_result,j,i)*np.log(get_hypo_value_K(hypothesis,i,j)) \n",
    "            term2 =  - (1 - get_result(actual_result,j,i))*np.log(1 - get_hypo_value_K(hypothesis,i,j)) \n",
    "            cost = cost + term1 + term2\n",
    "            \n",
    "    cost = (cost/(len(hypothesis)))\n",
    "    return cost"
   ]
  },
  {
   "cell_type": "code",
   "execution_count": 9,
   "metadata": {},
   "outputs": [
    {
     "name": "stdout",
     "output_type": "stream",
     "text": [
      "0.287629165161\n"
     ]
    }
   ],
   "source": [
    "print(Cost_function_n_reg(input_layer,all_theta,File['y'],10))"
   ]
  },
  {
   "cell_type": "code",
   "execution_count": 12,
   "metadata": {},
   "outputs": [],
   "source": [
    "#implement Cost function for Neural Nertwork with  Regularization\n",
    "def Cost_function_reg(input_layer,all_theta,actual_result,K,Lambda):\n",
    "    \n",
    "    #create theta1 and theta2\n",
    "    theta1 = all_theta['Theta1']\n",
    "    theta1 = np.delete(theta1,0,1)\n",
    "    theta2 = all_theta['Theta2']\n",
    "    theta2 = np.delete(theta2,0,1)\n",
    "    \n",
    "    #calculate hypothesis\n",
    "    hypothesis = compute_hypothesis(input_layer,all_theta)\n",
    "    \n",
    "    cost = 0\n",
    "    #iterate it for each training data\n",
    "    for i in range(len(hypothesis)):\n",
    "        #for each class\n",
    "        for j in range(K):\n",
    "            term1 =  - get_result(actual_result,j,i)*np.log(get_hypo_value_K(hypothesis,i,j)) \n",
    "            term2 =  - (1 - get_result(actual_result,j,i))*np.log(1 - get_hypo_value_K(hypothesis,i,j)) \n",
    "            cost = cost + term1 + term2\n",
    "            \n",
    "    cost = (cost/(len(hypothesis)))\n",
    "    \n",
    "    #calculate Regularizarion Term\n",
    "    \n",
    "    #minimize each theta presents in all_theta dictionary\n",
    "\n",
    "    #regularize theta1\n",
    "    t1 = np.sum(theta1*theta1) \n",
    "    \n",
    "    #regularize theta2\n",
    "    t2 = np.sum(theta2*theta2)\n",
    "    \n",
    "    Reg_term = (Lambda/(2*(len(hypothesis)))) * (t1 + t2)\n",
    "   \n",
    "    #update cost\n",
    "    cost = cost + Reg_term\n",
    "    return cost\n"
   ]
  },
  {
   "cell_type": "code",
   "execution_count": 13,
   "metadata": {},
   "outputs": [
    {
     "name": "stdout",
     "output_type": "stream",
     "text": [
      "0.383769859091\n"
     ]
    }
   ],
   "source": [
    "print(Cost_function_reg(input_layer,all_theta,File['y'],10,1))\n"
   ]
  }
 ],
 "metadata": {
  "kernelspec": {
   "display_name": "Python 3",
   "language": "python",
   "name": "python3"
  },
  "language_info": {
   "codemirror_mode": {
    "name": "ipython",
    "version": 3
   },
   "file_extension": ".py",
   "mimetype": "text/x-python",
   "name": "python",
   "nbconvert_exporter": "python",
   "pygments_lexer": "ipython3",
   "version": "3.6.5"
  }
 },
 "nbformat": 4,
 "nbformat_minor": 2
}
